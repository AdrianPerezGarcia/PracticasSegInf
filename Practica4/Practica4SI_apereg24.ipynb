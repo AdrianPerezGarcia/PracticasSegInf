{
 "cells": [
  {
   "cell_type": "markdown",
   "id": "cosmetic-airline",
   "metadata": {},
   "source": [
    "# **Práctica 4: Codificación Q-aria con ruido**\n",
    "\n",
    "Realizada por Adrián Pérez García el 22/03/2021"
   ]
  },
  {
   "cell_type": "markdown",
   "id": "annual-singles",
   "metadata": {},
   "source": [
    "Se importan las librerias necesarias"
   ]
  },
  {
   "cell_type": "code",
   "execution_count": 14,
   "id": "norwegian-bouquet",
   "metadata": {},
   "outputs": [],
   "source": [
    "import math\n",
    "import numpy as np"
   ]
  },
  {
   "cell_type": "markdown",
   "id": "everyday-childhood",
   "metadata": {},
   "source": [
    "### Funciones auxiliares"
   ]
  },
  {
   "cell_type": "markdown",
   "id": "fancy-advance",
   "metadata": {},
   "source": [
    "Función encargada de obtener un texto de un fichero"
   ]
  },
  {
   "cell_type": "code",
   "execution_count": 15,
   "id": "existing-elements",
   "metadata": {},
   "outputs": [],
   "source": [
    "def getText(path):\n",
    "    # Se obtiene el texto del fichero\n",
    "    file = open(path, 'r', encoding='utf8')\n",
    "    text = file.read()\n",
    "    file.close()\n",
    "    \n",
    "    return text"
   ]
  },
  {
   "cell_type": "markdown",
   "id": "excess-shopper",
   "metadata": {},
   "source": [
    "Función encargada de obtener la lista binaria a decodificar de un fichero"
   ]
  },
  {
   "cell_type": "code",
   "execution_count": 16,
   "id": "cathedral-mobility",
   "metadata": {},
   "outputs": [],
   "source": [
    "def getData(path):\n",
    "    # Se utiliza la funcion ya creada para leer el fichero y se formatea como codigo quitando las ,\n",
    "    return getText(path).replace(\",\",\"\").replace(\"\\n\", \"\")"
   ]
  },
  {
   "cell_type": "markdown",
   "id": "normal-salad",
   "metadata": {},
   "source": [
    "Función encargada de obtener la matriz de un fichero"
   ]
  },
  {
   "cell_type": "code",
   "execution_count": 17,
   "id": "buried-pulse",
   "metadata": {},
   "outputs": [],
   "source": [
    "def getRawMatrix(path):\n",
    "    # Se lee el texto utilizando la funcion ya creada\n",
    "    text = getText(path)\n",
    "    print(text)\n",
    "    # Se obtienen filas y columnas (Solo valido para el formato dado en los ficheros de datos)\n",
    "    rows = len(text.split(\"\\n\"))\n",
    "    i = 0\n",
    "    columns = 1\n",
    "    while(text[i] != \"]\"):\n",
    "        if(text[i] == \",\"):\n",
    "            columns += 1\n",
    "        i += 1\n",
    "    # Se formatea la matriz quitando todo elemento no numerico\n",
    "    return text.replace(\"\\n\",\"\").replace(\"[\", \"\").replace(\"]\", \"\").replace(\",\",\"\").replace(\" \", \"\"), rows, int(columns)"
   ]
  },
  {
   "cell_type": "markdown",
   "id": "filled-organization",
   "metadata": {},
   "source": [
    "Función encargada de convertir una matriz en formato String a Numpy"
   ]
  },
  {
   "cell_type": "code",
   "execution_count": 18,
   "id": "palestinian-warrant",
   "metadata": {},
   "outputs": [],
   "source": [
    "def getNumpyMatrix(matrixRaw, rows, columns):\n",
    "    matrix = np.zeros((rows, columns), dtype=object)\n",
    "    for i in range(rows):\n",
    "        for j in range(columns):\n",
    "            matrix[i][j] = int(matrixRaw[i*columns+j])\n",
    "    return matrix"
   ]
  },
  {
   "cell_type": "markdown",
   "id": "intensive-orlando",
   "metadata": {},
   "source": [
    "Función para calcular la capacidad correctora dada la distancia de Hamming"
   ]
  },
  {
   "cell_type": "code",
   "execution_count": 19,
   "id": "removed-number",
   "metadata": {},
   "outputs": [],
   "source": [
    "def getCorrectCapacity(distance):\n",
    "    return math.ceil((distance-1)/2)"
   ]
  },
  {
   "cell_type": "markdown",
   "id": "median-finger",
   "metadata": {},
   "source": [
    "Funciones auxiliares para el calculo de sindromes (Obtener palabra como matriz y calculo de sindromes)"
   ]
  },
  {
   "cell_type": "code",
   "execution_count": 20,
   "id": "approved-flexibility",
   "metadata": {},
   "outputs": [],
   "source": [
    "def getWordAsTransponseMatrix(word):\n",
    "    matrix = np.zeros((len(word),1), dtype=object)\n",
    "    for i in range(len(word)):\n",
    "        matrix[i][0] = int(word[i])\n",
    "    return matrix\n",
    "\n",
    "def calculateSyndrome(word, matrixH):\n",
    "    # Se obtiene el sindrome como producto matricial de la matriz de control por la palabra\n",
    "    syndrome = np.dot(matrixH , getWordAsTransponseMatrix(word)).transpose()\n",
    "    # Se convierte de matriz con valores en N a lista con valores en modulo 2\n",
    "    syndromeList = []\n",
    "    for j in range(len(syndrome[0])):\n",
    "        syndromeList.append(syndrome[0][j] % 2)\n",
    "        \n",
    "    return syndromeList"
   ]
  },
  {
   "cell_type": "markdown",
   "id": "infrared-script",
   "metadata": {},
   "source": [
    "Funciones auxiliares para el calculo de todas las palabras de peso 2 (Calculo de palabras y calculo de números combinatorios)"
   ]
  },
  {
   "cell_type": "code",
   "execution_count": 29,
   "id": "roman-ceremony",
   "metadata": {},
   "outputs": [],
   "source": [
    "def combinatorial(n, k):\n",
    "    # Se calcula recursivamente n sobre k\n",
    "    if n >= 0 and k == 0:\n",
    "        return 1\n",
    "    if n == 0 and k > 0:\n",
    "        return 0\n",
    "    return combinatorial(n - 1, k - 1) + combinatorial(n - 1, k) \n",
    "\n",
    "\n",
    "def getAllWordsWithHeigth2(wordLength):\n",
    "    # El total de palabras de peso 2 sera el numero combinatorio longitud de palabra sobre 2\n",
    "    words = combinatorial(10,2)\n",
    "    weight2 = np.zeros((words, wordLength))\n",
    "    # Se añaden 1's en todas las posibles posiciones\n",
    "    j = 0\n",
    "    k = 1\n",
    "    for i in range(words):\n",
    "        if ((k + j) == wordLength):\n",
    "            j += 1\n",
    "            k = 1\n",
    "        weight2[i][j] = 1\n",
    "        weight2[i][j + k] = 1\n",
    "        k += 1\n",
    "    return weight2"
   ]
  },
  {
   "cell_type": "markdown",
   "id": "alone-prompt",
   "metadata": {},
   "source": [
    "Función auxiliar para la resta binaria (Convierte el número a lista para poder restarla)"
   ]
  },
  {
   "cell_type": "code",
   "execution_count": 30,
   "id": "affected-oxygen",
   "metadata": {},
   "outputs": [],
   "source": [
    "def getBinaryAsList(number):\n",
    "    numberList = []\n",
    "    numberStr = str(number)\n",
    "    for element in numberStr:\n",
    "        numberList.append(int(element))\n",
    "    return numberList"
   ]
  },
  {
   "cell_type": "markdown",
   "id": "australian-treasure",
   "metadata": {},
   "source": [
    "Función decodificadora (Igual que en la practica 3)"
   ]
  },
  {
   "cell_type": "code",
   "execution_count": 31,
   "id": "advanced-broadway",
   "metadata": {},
   "outputs": [],
   "source": [
    "def decodeMessage(code, alphabet, rowsA, columnsA, mod):\n",
    "    \n",
    "    # Se realiza la decodificacion lineal\n",
    "    linearDecoded = \"\"\n",
    "    for i in range(0, len(code), columnsA):\n",
    "        linearDecoded += code[i:i+rowsA]\n",
    "        if(len(code[i:i+rowsA]) != rowsA):\n",
    "            print(\"Hay cola (\" +code[i:i+rowsA]+ \")\\n\")\n",
    "    \n",
    "    # Se realiza la decodificacion con la fuente\n",
    "    message = \"\"\n",
    "    minLength = math.ceil(math.log(len(alphabet),mod))\n",
    "    print(\"Longitud mínima binaria en bloque: \" + str(minLength) + \"\\n\")\n",
    "    for i in range(0, len(linearDecoded), minLength):\n",
    "        message += alphabet[int(linearDecoded[i:i+minLength],mod)]\n",
    "    \n",
    "    return message"
   ]
  },
  {
   "cell_type": "markdown",
   "id": "skilled-investing",
   "metadata": {},
   "source": [
    "Función correctora de ruido"
   ]
  },
  {
   "cell_type": "code",
   "execution_count": 32,
   "id": "wooden-compromise",
   "metadata": {},
   "outputs": [],
   "source": [
    "def correctData(code, matrixA):\n",
    "    # Se generan las variables necesarias para corregir el ruido \n",
    "\n",
    "    # G sera la composicion de I (tamaño de filas de A) concatenada con A \n",
    "    matrixG = np.concatenate((np.identity(len(matrixA)), matrixA), 1)\n",
    "    print(\"Tamaño de la matriz generadora: \" +str(len(matrixG))+ \"x\" +str(len(matrixG[0])))\n",
    "\n",
    "    # H sera la composicion de -A transpuesta concatenada con la identidad de tamaño columnas de A\n",
    "    matrixH = np.concatenate((matrixA.transpose(), np.identity(len(matrixA[0]))), 1)\n",
    "    print(\"Tamaño de la matriz de control: \" +str(len(matrixH))+ \"x\" +str(len(matrixH[0])))\n",
    "\n",
    "    # Se separa el dato en palabras de longitud columnas de G y se convierte a un array numpy para poder trabajar con el\n",
    "    words = []\n",
    "    wordLength = len(matrixG[0])\n",
    "    for i in range(0, len(code), wordLength):\n",
    "        words.append(code[i:i+wordLength])\n",
    "    words = np.array(words, dtype=object)\n",
    "\n",
    "    # Se muestra la informacion basica del codigo dividido\n",
    "    if(len(words[-1]) != wordLength):\n",
    "        validWords =  len(words) - 1\n",
    "        print(\"Total de palabras (incluida la cola): \" + str(len(words)))\n",
    "        print(\"Cola: Si (\" +words[-1]+ \")\")\n",
    "    else:\n",
    "        validWords =  len(words)\n",
    "        print(\"Total de palabras (no hay cola): \" + str(len(words)))\n",
    "        \n",
    "        \n",
    "    # Se aplica el algoritmo del lider\n",
    "\n",
    "    # Paso 1: Calcular el sindrome de cada palabra\n",
    "    syndromes = []\n",
    "    for i in range(validWords):\n",
    "        # Se utiliza una funcion auxiliar para calcular los sindromes\n",
    "        syndromes.append(calculateSyndrome(words[i], matrixH))\n",
    "\n",
    "    # Paso 2.1: Obtener el tablero de errores de patron y de sindromes incompleto\n",
    "    errorsPatternBoard = np.concatenate((np.zeros((1, wordLength)), np.identity(wordLength), getAllWordsWithHeigth2(wordLength)), 0)\n",
    "\n",
    "    incompleteSyndromesBoard = []\n",
    "    for i in range(0, len(errorsPatternBoard)):\n",
    "        incompleteSyndromesBoard.append(calculateSyndrome(errorsPatternBoard[i], matrixH))\n",
    "    \n",
    "    # Paso 2.2 y 3: Buscar el sindrome en el tablero y restar la palabra del sindrome con el error del sindrome del tablero\n",
    "    for i in range(len(syndromes)):\n",
    "        for j in range(len(incompleteSyndromesBoard)):\n",
    "            if(syndromes[i] == incompleteSyndromesBoard[j]):\n",
    "                words[i]= (abs(getBinaryAsList(words[i])-errorsPatternBoard[j])).astype(int)\n",
    "              \n",
    "    # Se reagrupa el codigo sin ruido para devolverlo\n",
    "    freeCode = \"\"\n",
    "    for word in words:\n",
    "        for digit in word:\n",
    "            freeCode += str(digit)\n",
    "    return freeCode"
   ]
  },
  {
   "cell_type": "markdown",
   "id": "existing-measurement",
   "metadata": {},
   "source": [
    "### Problema a resolver\n",
    "\n",
    "**La práctica 4 es una continuación de la práctica 3. Los procesos descritos tanto para la codificación de la fuente como para la codificación lineal son los mismos que en la práctica anterior. Sin embargo, ahora se añade una dificultad adicional. En este caso se ha aplicado un simulador de ruido a la secuencia binaria que sale tras hacer la\n",
    "codificación lineal.**"
   ]
  },
  {
   "cell_type": "code",
   "execution_count": 28,
   "id": "accessible-magnitude",
   "metadata": {},
   "outputs": [
    {
     "name": "stdout",
     "output_type": "stream",
     "text": [
      "[1,0,1,0,1,0,1,1]\n",
      "[0,1,0,1,0,1,1,0]\n",
      "Matriz A:\n",
      "[[1 0 1 0 1 0 1 1]\n",
      " [0 1 0 1 0 1 1 0]]\n",
      "\n",
      "Alfabeto: \"abcdefghijklmnñopqrstuvwxyzABCDEFGHIJKLMNÑOPQRSTUVWXYZ0123456789 -\n",
      "\n",
      "Dato: 011010101111000000001100000000001111110111000000001100000000100101011001101010111100000000110000000011000000001100000000011010101100111111011100000000100101011011000000001100000000110000000000111111011001010110110000000011000000000110101011110000000011000000001100000000110000000011000000001001010110100101011000111111011100000000110000000011000000001100000000110000000011000000000110101011110000000001101010111100000000110000000010010101100110101011011010101111000000001100000000110000000011000000000110101011100101011011000000001100000000011010101111000000001100000000100101011000111111010011111101110000000011000000001100000000110000000000111111010110101011011010101101101010110110101011011010101110010101101001010110110000000010010101101100000000110000000011000000001001010110100101011001101010110110101011001111110111000000001100000000100101011011000000001001010110011010101110010101100011111101011010101110010101101001010110100101011010010101101100000000110000000011000000000110101011110000000011000000001\n",
      "\n",
      "Tamaño de la matriz generadora: 2x10\n",
      "Tamaño de la matriz de control: 8x10\n",
      "Total de palabras (incluida la cola): 102\n",
      "Cola: Si (1)\n"
     ]
    },
    {
     "ename": "IndexError",
     "evalue": "index 10 is out of bounds for axis 0 with size 10",
     "output_type": "error",
     "traceback": [
      "\u001b[1;31m---------------------------------------------------------------------------\u001b[0m",
      "\u001b[1;31mIndexError\u001b[0m                                Traceback (most recent call last)",
      "\u001b[1;32m<ipython-input-28-ae9b6c0fd2b0>\u001b[0m in \u001b[0;36m<module>\u001b[1;34m\u001b[0m\n\u001b[0;32m      8\u001b[0m \u001b[0mprint\u001b[0m\u001b[1;33m(\u001b[0m\u001b[1;34m\"Dato: \"\u001b[0m \u001b[1;33m+\u001b[0m\u001b[0mdata\u001b[0m\u001b[1;33m+\u001b[0m \u001b[1;34m\"\\n\"\u001b[0m\u001b[1;33m)\u001b[0m\u001b[1;33m\u001b[0m\u001b[1;33m\u001b[0m\u001b[0m\n\u001b[0;32m      9\u001b[0m \u001b[1;31m# Se corrige el dato eliminando el ruido\u001b[0m\u001b[1;33m\u001b[0m\u001b[1;33m\u001b[0m\u001b[1;33m\u001b[0m\u001b[0m\n\u001b[1;32m---> 10\u001b[1;33m \u001b[0mcorrectedData\u001b[0m \u001b[1;33m=\u001b[0m \u001b[0mcorrectData\u001b[0m\u001b[1;33m(\u001b[0m\u001b[0mdata\u001b[0m\u001b[1;33m,\u001b[0m \u001b[0mmatrixA\u001b[0m\u001b[1;33m)\u001b[0m\u001b[1;33m\u001b[0m\u001b[1;33m\u001b[0m\u001b[0m\n\u001b[0m\u001b[0;32m     11\u001b[0m \u001b[0mprint\u001b[0m\u001b[1;33m(\u001b[0m\u001b[1;34m\"\\nDato sin ruido: \"\u001b[0m \u001b[1;33m+\u001b[0m\u001b[0mcorrectedData\u001b[0m\u001b[1;33m+\u001b[0m \u001b[1;34m\"\\n\"\u001b[0m\u001b[1;33m)\u001b[0m\u001b[1;33m\u001b[0m\u001b[1;33m\u001b[0m\u001b[0m\n\u001b[0;32m     12\u001b[0m \u001b[1;31m# Se obtiene el mensaje igual que en la practica 3\u001b[0m\u001b[1;33m\u001b[0m\u001b[1;33m\u001b[0m\u001b[1;33m\u001b[0m\u001b[0m\n",
      "\u001b[1;32m<ipython-input-24-51feca4fefd2>\u001b[0m in \u001b[0;36mcorrectData\u001b[1;34m(code, matrixA)\u001b[0m\n\u001b[0;32m     36\u001b[0m \u001b[1;33m\u001b[0m\u001b[0m\n\u001b[0;32m     37\u001b[0m     \u001b[1;31m# Paso 2.1: Obtener el tablero de errores de patron y de sindromes incompleto\u001b[0m\u001b[1;33m\u001b[0m\u001b[1;33m\u001b[0m\u001b[1;33m\u001b[0m\u001b[0m\n\u001b[1;32m---> 38\u001b[1;33m     \u001b[0merrorsPatternBoard\u001b[0m \u001b[1;33m=\u001b[0m \u001b[0mnp\u001b[0m\u001b[1;33m.\u001b[0m\u001b[0mconcatenate\u001b[0m\u001b[1;33m(\u001b[0m\u001b[1;33m(\u001b[0m\u001b[0mnp\u001b[0m\u001b[1;33m.\u001b[0m\u001b[0mzeros\u001b[0m\u001b[1;33m(\u001b[0m\u001b[1;33m(\u001b[0m\u001b[1;36m1\u001b[0m\u001b[1;33m,\u001b[0m \u001b[0mwordLength\u001b[0m\u001b[1;33m)\u001b[0m\u001b[1;33m)\u001b[0m\u001b[1;33m,\u001b[0m \u001b[0mnp\u001b[0m\u001b[1;33m.\u001b[0m\u001b[0midentity\u001b[0m\u001b[1;33m(\u001b[0m\u001b[0mwordLength\u001b[0m\u001b[1;33m)\u001b[0m\u001b[1;33m,\u001b[0m \u001b[0mgetAllWordsWithHeigth2\u001b[0m\u001b[1;33m(\u001b[0m\u001b[0mwordLength\u001b[0m\u001b[1;33m)\u001b[0m\u001b[1;33m)\u001b[0m\u001b[1;33m,\u001b[0m \u001b[1;36m0\u001b[0m\u001b[1;33m)\u001b[0m\u001b[1;33m\u001b[0m\u001b[1;33m\u001b[0m\u001b[0m\n\u001b[0m\u001b[0;32m     39\u001b[0m \u001b[1;33m\u001b[0m\u001b[0m\n\u001b[0;32m     40\u001b[0m     \u001b[0mincompleteSyndromesBoard\u001b[0m \u001b[1;33m=\u001b[0m \u001b[1;33m[\u001b[0m\u001b[1;33m]\u001b[0m\u001b[1;33m\u001b[0m\u001b[1;33m\u001b[0m\u001b[0m\n",
      "\u001b[1;32m<ipython-input-21-c4e551d1242f>\u001b[0m in \u001b[0;36mgetAllWordsWithHeigth2\u001b[1;34m(wordLength)\u001b[0m\n\u001b[0;32m     20\u001b[0m             \u001b[0mk\u001b[0m \u001b[1;33m=\u001b[0m \u001b[1;36m1\u001b[0m\u001b[1;33m\u001b[0m\u001b[1;33m\u001b[0m\u001b[0m\n\u001b[0;32m     21\u001b[0m         \u001b[0mweight2\u001b[0m\u001b[1;33m[\u001b[0m\u001b[0mi\u001b[0m\u001b[1;33m]\u001b[0m\u001b[1;33m[\u001b[0m\u001b[0mj\u001b[0m\u001b[1;33m]\u001b[0m \u001b[1;33m=\u001b[0m \u001b[1;36m1\u001b[0m\u001b[1;33m\u001b[0m\u001b[1;33m\u001b[0m\u001b[0m\n\u001b[1;32m---> 22\u001b[1;33m         \u001b[0mweight2\u001b[0m\u001b[1;33m[\u001b[0m\u001b[0mi\u001b[0m\u001b[1;33m]\u001b[0m\u001b[1;33m[\u001b[0m\u001b[0mj\u001b[0m \u001b[1;33m+\u001b[0m \u001b[0mk\u001b[0m\u001b[1;33m]\u001b[0m \u001b[1;33m=\u001b[0m \u001b[1;36m1\u001b[0m\u001b[1;33m\u001b[0m\u001b[1;33m\u001b[0m\u001b[0m\n\u001b[0m\u001b[0;32m     23\u001b[0m         \u001b[0mk\u001b[0m \u001b[1;33m+=\u001b[0m \u001b[1;36m1\u001b[0m\u001b[1;33m\u001b[0m\u001b[1;33m\u001b[0m\u001b[0m\n\u001b[0;32m     24\u001b[0m     \u001b[1;32mreturn\u001b[0m \u001b[0mweight2\u001b[0m\u001b[1;33m\u001b[0m\u001b[1;33m\u001b[0m\u001b[0m\n",
      "\u001b[1;31mIndexError\u001b[0m: index 10 is out of bounds for axis 0 with size 10"
     ]
    }
   ],
   "source": [
    "# Se obtienen el alfabeto, la matriz y el dato de los ficheros\n",
    "alphabet = getText(\"./data/alphabet2.txt\")\n",
    "data = getData(\"./data/data2.txt\")\n",
    "rawA, rowsA, columnsA = getRawMatrix(\"./data/matrix2.txt\")\n",
    "matrixA = getNumpyMatrix(rawA, rowsA, columnsA)\n",
    "print(\"Matriz A:\\n\" +str(matrixA)+ \"\\n\")\n",
    "print(\"Alfabeto: \" +alphabet+ \"\\n\")\n",
    "print(\"Dato: \" +data+ \"\\n\")\n",
    "mod = 2\n",
    "\n",
    "# Se corrige el dato eliminando el ruido\n",
    "correctedData = correctData(data, matrixA)\n",
    "print(\"\\nDato sin ruido: \" +correctedData+ \"\\n\")\n",
    "# Se obtiene el mensaje igual que en la practica 3\n",
    "print(\"Mensaje: \" +decodeMessage(correctedData, alphabet, len(matrixA), len(matrixA) + len(matrixA[0]), mod))"
   ]
  },
  {
   "cell_type": "code",
   "execution_count": null,
   "id": "sharing-commerce",
   "metadata": {},
   "outputs": [],
   "source": []
  }
 ],
 "metadata": {
  "kernelspec": {
   "display_name": "Python 3",
   "language": "python",
   "name": "python3"
  },
  "language_info": {
   "codemirror_mode": {
    "name": "ipython",
    "version": 3
   },
   "file_extension": ".py",
   "mimetype": "text/x-python",
   "name": "python",
   "nbconvert_exporter": "python",
   "pygments_lexer": "ipython3",
   "version": "3.8.5"
  }
 },
 "nbformat": 4,
 "nbformat_minor": 5
}
