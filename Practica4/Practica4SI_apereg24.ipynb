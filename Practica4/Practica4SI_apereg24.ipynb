{
 "cells": [
  {
   "cell_type": "markdown",
   "id": "cosmetic-airline",
   "metadata": {},
   "source": [
    "# **Práctica 4: Codificación Q-aria con ruido**\n",
    "\n",
    "Realizada por Adrián Pérez García el 22/03/2021"
   ]
  },
  {
   "cell_type": "markdown",
   "id": "annual-singles",
   "metadata": {},
   "source": [
    "Se importan las librerias necesarias"
   ]
  },
  {
   "cell_type": "code",
   "execution_count": 75,
   "id": "norwegian-bouquet",
   "metadata": {},
   "outputs": [],
   "source": [
    "import math\n",
    "import numpy as np\n",
    "import itertools as it"
   ]
  },
  {
   "cell_type": "markdown",
   "id": "everyday-childhood",
   "metadata": {},
   "source": [
    "### Funciones auxiliares"
   ]
  },
  {
   "cell_type": "markdown",
   "id": "fancy-advance",
   "metadata": {},
   "source": [
    "Función encargada de obtener un texto de un fichero"
   ]
  },
  {
   "cell_type": "code",
   "execution_count": 76,
   "id": "existing-elements",
   "metadata": {},
   "outputs": [],
   "source": [
    "def getText(path):\n",
    "    # Se obtiene el texto del fichero\n",
    "    file = open(path, 'r', encoding='utf8')\n",
    "    text = file.read()\n",
    "    file.close()\n",
    "    \n",
    "    return text"
   ]
  },
  {
   "cell_type": "markdown",
   "id": "excess-shopper",
   "metadata": {},
   "source": [
    "Función encargada de obtener la lista binaria a decodificar de un fichero"
   ]
  },
  {
   "cell_type": "code",
   "execution_count": 77,
   "id": "cathedral-mobility",
   "metadata": {},
   "outputs": [],
   "source": [
    "def getData(path):\n",
    "    # Se utiliza la funcion ya creada para leer el fichero y se formatea como codigo quitando las ,\n",
    "    return getText(path).replace(\",\",\"\").replace(\"\\n\", \"\")"
   ]
  },
  {
   "cell_type": "markdown",
   "id": "normal-salad",
   "metadata": {},
   "source": [
    "Función encargada de obtener la matriz de un fichero"
   ]
  },
  {
   "cell_type": "code",
   "execution_count": 78,
   "id": "buried-pulse",
   "metadata": {},
   "outputs": [],
   "source": [
    "def getRawMatrix(path):\n",
    "    # Se lee el texto utilizando la funcion ya creada\n",
    "    text = getText(path)\n",
    "    # Se obtienen filas y columnas (Solo valido para el formato dado en los ficheros de datos)\n",
    "    rows = len(text.split(\"\\n\"))\n",
    "    i = 0\n",
    "    columns = 1\n",
    "    while(text[i] != \"]\"):\n",
    "        if(text[i] == \",\"):\n",
    "            columns += 1\n",
    "        i += 1\n",
    "    # Se formatea la matriz quitando todo elemento no numerico\n",
    "    return text.replace(\"\\n\",\"\").replace(\"[\", \"\").replace(\"]\", \"\").replace(\",\",\"\").replace(\" \", \"\"), rows, int(columns)"
   ]
  },
  {
   "cell_type": "markdown",
   "id": "filled-organization",
   "metadata": {},
   "source": [
    "Función encargada de convertir una matriz en formato String a Numpy"
   ]
  },
  {
   "cell_type": "code",
   "execution_count": 79,
   "id": "palestinian-warrant",
   "metadata": {},
   "outputs": [],
   "source": [
    "def getNumpyMatrix(matrixRaw, rows, columns):\n",
    "    matrix = np.zeros((rows, columns), dtype=object)\n",
    "    for i in range(rows):\n",
    "        for j in range(columns):\n",
    "            matrix[i][j] = int(matrixRaw[i*columns+j])\n",
    "    return matrix"
   ]
  },
  {
   "cell_type": "markdown",
   "id": "median-finger",
   "metadata": {},
   "source": [
    "Funciones auxiliares para el calculo de sindromes (Obtener palabra como matriz y calculo de sindromes)"
   ]
  },
  {
   "cell_type": "code",
   "execution_count": 80,
   "id": "approved-flexibility",
   "metadata": {},
   "outputs": [],
   "source": [
    "def getWordAsTransponseMatrix(word):\n",
    "    matrix = np.zeros((len(word),1), dtype=object)\n",
    "    for i in range(len(word)):\n",
    "        matrix[i][0] = int(word[i])\n",
    "    return matrix\n",
    "\n",
    "def calculateSyndrome(word, matrixH, mod):\n",
    "    # Se obtiene el sindrome como producto matricial de la matriz de control por la palabra\n",
    "    syndrome = np.dot(matrixH , getWordAsTransponseMatrix(word)).transpose()\n",
    "    # Se convierte de matriz con valores en N a lista con valores en su modulo\n",
    "    syndromeList = []\n",
    "    for j in range(len(syndrome[0])):\n",
    "        syndromeList.append(syndrome[0][j] % mod)\n",
    "        \n",
    "    return syndromeList"
   ]
  },
  {
   "cell_type": "markdown",
   "id": "infrared-script",
   "metadata": {},
   "source": [
    "Funciones auxiliares para el calculo de todas las palabras de peso 2 (Calculo de palabras y calculo de números combinatorios)"
   ]
  },
  {
   "cell_type": "code",
   "execution_count": 81,
   "id": "roman-ceremony",
   "metadata": {},
   "outputs": [],
   "source": [
    "def combinatorial(n, k):\n",
    "    # Se calcula recursivamente n sobre k\n",
    "    if n >= 0 and k == 0:\n",
    "        return 1\n",
    "    if n == 0 and k > 0:\n",
    "        return 0\n",
    "    return combinatorial(n - 1, k - 1) + combinatorial(n - 1, k) \n",
    "            \n",
    "def getWeight(word):\n",
    "    weight = 0\n",
    "    # El peso de una palabra es igual a los digitos distintos de 0 que posea\n",
    "    for digit in word:\n",
    "        if(digit != 0):\n",
    "            weight += 1\n",
    "    return weight\n",
    "\n",
    "def generateErrorsPatternBoard(wordLength, weight, mod):\n",
    "    # Se añade la palabra de peso 0\n",
    "    board = np.zeros((1, wordLength))\n",
    "    \n",
    "    # Se busca entre todos los posibles errores (De peso 1 peso maximo) los de peso <= a la capacidad correctora\n",
    "    for error in list(it.product(range(mod), repeat=wordLength)):\n",
    "        if getWeight(error) in range(1, weight+1):\n",
    "                board = np.concatenate((board, np.array(error)[np.newaxis]),0)\n",
    "                \n",
    "    return board"
   ]
  },
  {
   "cell_type": "markdown",
   "id": "alone-prompt",
   "metadata": {},
   "source": [
    "Funcion para la resta en el modulo (Y función auxiliar para convertir el número a lista)"
   ]
  },
  {
   "cell_type": "code",
   "execution_count": 82,
   "id": "affected-oxygen",
   "metadata": {},
   "outputs": [],
   "source": [
    "def getNumberAsList(number):\n",
    "    numberList = []\n",
    "    numberStr = str(number)\n",
    "    for element in numberStr:\n",
    "        numberList.append(int(element))\n",
    "    return numberList\n",
    "\n",
    "def listSubstraction(list1, list2, mod):\n",
    "    resultList = []\n",
    "    for i in range(len(list1)):\n",
    "        resultList.append(int((mod - (int(list1[i]) - int(list2[i]))) % mod))\n",
    "    return resultList"
   ]
  },
  {
   "cell_type": "markdown",
   "id": "australian-treasure",
   "metadata": {},
   "source": [
    "Función decodificadora (Igual que en la practica 3)"
   ]
  },
  {
   "cell_type": "code",
   "execution_count": 83,
   "id": "advanced-broadway",
   "metadata": {},
   "outputs": [],
   "source": [
    "def decodeMessage(code, alphabet, rowsA, columnsA, mod):\n",
    "    # Se realiza la decodificacion lineal\n",
    "    linearDecoded = \"\"\n",
    "    for i in range(0, len(code), columnsA):\n",
    "        linearDecoded += code[i:i+rowsA]\n",
    "        if(len(code[i:i+rowsA]) != rowsA):\n",
    "            print(\"Hay cola (\" +code[i:i+rowsA]+ \")\\n\")\n",
    "    \n",
    "    # Se realiza la decodificacion con la fuente\n",
    "    message = \"\"\n",
    "    minLength = math.ceil(math.log(len(alphabet),mod))\n",
    "    print(\"Longitud mínima en bloque: \" + str(minLength) + \"\\n\")\n",
    "    for i in range(0, len(linearDecoded), minLength):\n",
    "        message += alphabet[int(linearDecoded[i:i+minLength], mod)]\n",
    "    \n",
    "    return message"
   ]
  },
  {
   "cell_type": "markdown",
   "id": "skilled-investing",
   "metadata": {},
   "source": [
    "Función correctora de ruido"
   ]
  },
  {
   "cell_type": "code",
   "execution_count": 87,
   "id": "wooden-compromise",
   "metadata": {},
   "outputs": [],
   "source": [
    "def correctData(code, hammingDistance, matrixA, mod):\n",
    "    # Se generan las variables necesarias para corregir el ruido \n",
    "    \n",
    "    # G sera la composicion de I (tamaño de filas de A) concatenada con A \n",
    "    matrixG = np.concatenate((np.identity(len(matrixA)), matrixA), 1)\n",
    "\n",
    "    # H sera la composicion de -A transpuesta concatenada con la identidad de tamaño columnas de A\n",
    "    matrixH = np.concatenate((matrixA.transpose(), np.identity(len(matrixA[0]))), 1)\n",
    "    \n",
    "    # Se calcula la capacidad correctora en base a la distancia de Hamming\n",
    "    t = math.floor((hammingDistance - 1) / 2)\n",
    "    \n",
    "    # Se separa el dato en palabras de longitud columnas de G y se convierte a un array numpy para poder trabajar con el\n",
    "    words = []\n",
    "    wordLength = len(matrixG[0])\n",
    "    for i in range(0, len(code), wordLength):\n",
    "        words.append(code[i:i+wordLength])\n",
    "    words = np.array(words, dtype=object)  \n",
    "\n",
    "    # Se muestra la informacion basica del codigo dividido y se comprueba si hay cola para no calcular su sindrome\n",
    "    print(\"Tamaño de la matriz generadora: \" +str(len(matrixG))+ \"x\" +str(len(matrixG[0])))\n",
    "    print(\"Tamaño de la matriz de control: \" +str(len(matrixH))+ \"x\" +str(len(matrixH[0])))\n",
    "    if(len(words[-1]) != wordLength):\n",
    "        validWords =  len(words) - 1\n",
    "        print(\"Total de palabras (incluida la cola): \" + str(len(words)))\n",
    "    else:\n",
    "        validWords =  len(words)\n",
    "        print(\"Total de palabras (no hay cola): \" + str(len(words)))\n",
    "    \n",
    "    # Se aplica el algoritmo del lider\n",
    "\n",
    "    # Paso 1: Calcular el sindrome de cada palabra\n",
    "    syndromes = []\n",
    "    for i in range(validWords):\n",
    "        # Se utiliza una funcion auxiliar para calcular los sindromes\n",
    "        syndromes.append(calculateSyndrome(words[i], matrixH, mod))\n",
    "\n",
    "    # Paso 2.1: Obtener el tablero de errores de patron y de sindromes incompleto\n",
    "    errorsPatternBoard = generateErrorsPatternBoard(wordLength, t, mod)\n",
    "    incompleteSyndromesBoard = []\n",
    "    for i in range(0, len(errorsPatternBoard)):\n",
    "        incompleteSyndromesBoard.append(calculateSyndrome(errorsPatternBoard[i], matrixH, mod))\n",
    "        \n",
    "    # Paso 2.2 y 3: Buscar el sindrome en el tablero y restar la palabra del sindrome con el error del sindrome del tablero\n",
    "    for i in range(len(syndromes)):\n",
    "        for j in range(len(incompleteSyndromesBoard)):\n",
    "            if(syndromes[i] == incompleteSyndromesBoard[j]):\n",
    "                words[i]= listSubstraction(getNumberAsList(words[i]), errorsPatternBoard[j], mod)\n",
    "\n",
    "    # Se reagrupa el codigo sin ruido para devolverlo\n",
    "    freeCode = \"\"\n",
    "    for word in words:\n",
    "        for digit in word:\n",
    "            freeCode += str(digit)\n",
    "    return freeCode"
   ]
  },
  {
   "cell_type": "markdown",
   "id": "existing-measurement",
   "metadata": {},
   "source": [
    "### Problema a resolver\n",
    "\n",
    "**La práctica 4 es una continuación de la práctica 3. Los procesos descritos tanto para la codificación de la fuente como para la codificación lineal son los mismos que en la práctica anterior. Sin embargo, ahora se añade una dificultad adicional. En este caso se ha aplicado un simulador de ruido a la secuencia binaria que sale tras hacer la\n",
    "codificación lineal.**"
   ]
  },
  {
   "cell_type": "code",
   "execution_count": 88,
   "id": "accessible-magnitude",
   "metadata": {},
   "outputs": [
    {
     "name": "stdout",
     "output_type": "stream",
     "text": [
      "Matriz A:\n",
      "[[1 2 3 4 1]\n",
      " [2 3 4 1 2]]\n",
      "\n",
      "Alfabeto: ABCDEFGHIJKLM NÑOPQRSTUVWXYZ\n",
      "\n",
      "Dato: 20142312112341021112120142312343214420433024413244131423134132443321434224132103214320142310143214212224242142314312341343331311000004224132200433041413241243214343331314142310143214143403312234122431423141423114142311\n",
      "\n",
      "Tamaño de la matriz generadora: 2x7\n",
      "Tamaño de la matriz de control: 5x7\n",
      "Total de palabras (incluida la cola): 32\n",
      "\n",
      "Dato sin ruido: 03413241043214414443403413244012341310122002142313024132021423104234122031423042341203413244012341323331303413241043214232224200000002031423310122002142314012341232224203413244012341422102201321433024132034132403413241\n",
      "\n",
      "Hay cola (1)\n",
      "\n",
      "Longitud mínima en bloque: 3\n",
      "\n",
      "Mensaje: OTRO CUERPO CON RUIDO\n"
     ]
    }
   ],
   "source": [
    "# Se obtienen el alfabeto, la matriz y el dato de los ficheros\n",
    "alphabet = getText(\"./data/alphabet3.txt\")\n",
    "data = getData(\"./data/data3.txt\")\n",
    "rawA, rowsA, columnsA = getRawMatrix(\"./data/matrix3.txt\")\n",
    "matrixA = getNumpyMatrix(rawA, rowsA, columnsA)\n",
    "print(\"Matriz A:\\n\" +str(matrixA)+ \"\\n\")\n",
    "print(\"Alfabeto: \" +alphabet+ \"\\n\")\n",
    "print(\"Dato: \" +data+ \"\\n\")\n",
    "mod = 5\n",
    "hammingDistance = 5\n",
    "\n",
    "# Se corrige el dato eliminando el ruido\n",
    "correctedData = correctData(data, hammingDistance, matrixA, mod)\n",
    "print(\"\\nDato sin ruido: \" +correctedData+ \"\\n\")\n",
    "\n",
    "# Se obtiene el mensaje igual que en la practica 3 (Se imprime tomando dos espacios como un cambio de linea)\n",
    "print(\"Mensaje: \" +decodeMessage(correctedData, alphabet, len(matrixA), len(matrixA) + len(matrixA[0]), mod).replace(\"  \", \"\\n\"))"
   ]
  }
 ],
 "metadata": {
  "kernelspec": {
   "display_name": "Python 3",
   "language": "python",
   "name": "python3"
  },
  "language_info": {
   "codemirror_mode": {
    "name": "ipython",
    "version": 3
   },
   "file_extension": ".py",
   "mimetype": "text/x-python",
   "name": "python",
   "nbconvert_exporter": "python",
   "pygments_lexer": "ipython3",
   "version": "3.8.5"
  }
 },
 "nbformat": 4,
 "nbformat_minor": 5
}
