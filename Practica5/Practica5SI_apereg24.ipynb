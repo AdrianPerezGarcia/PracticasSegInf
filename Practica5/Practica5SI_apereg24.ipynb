{
 "cells": [
  {
   "cell_type": "markdown",
   "id": "cosmetic-airline",
   "metadata": {},
   "source": [
    "# **Práctica 5: Simulación de un sistema criptográfico de clave privada: Sustitución Monoalfabética**\n",
    "\n",
    "Realizada por Adrián Pérez García el 12/04/2021"
   ]
  },
  {
   "cell_type": "markdown",
   "id": "everyday-childhood",
   "metadata": {},
   "source": [
    "### Funciones auxiliares"
   ]
  },
  {
   "cell_type": "markdown",
   "id": "fancy-advance",
   "metadata": {},
   "source": [
    "Función encargada de obtener un texto de un fichero"
   ]
  },
  {
   "cell_type": "code",
   "execution_count": 39,
   "id": "existing-elements",
   "metadata": {},
   "outputs": [],
   "source": [
    "def getText(path):\n",
    "    # Se obtiene el texto del fichero\n",
    "    file = open(path, 'r', encoding='utf8')\n",
    "    text = file.read()\n",
    "    file.close()\n",
    "    \n",
    "    return text"
   ]
  },
  {
   "cell_type": "markdown",
   "id": "instant-meeting",
   "metadata": {},
   "source": [
    "Función auxiliar para calcular el inverso en un determinado modulo (Siempre va a existir)"
   ]
  },
  {
   "cell_type": "code",
   "execution_count": 40,
   "id": "stylish-spotlight",
   "metadata": {},
   "outputs": [],
   "source": [
    "def inverse(a, mod):\n",
    "    return pow(a, -1, mod)"
   ]
  },
  {
   "cell_type": "markdown",
   "id": "graduate-peter",
   "metadata": {},
   "source": [
    "Función encargada de, dada la variable i, calcular la clave de cifrado"
   ]
  },
  {
   "cell_type": "code",
   "execution_count": 41,
   "id": "dangerous-dublin",
   "metadata": {},
   "outputs": [],
   "source": [
    "def calculateEncodingKey(i, mod):\n",
    "    return pow(64, i) % mod, (5 * i) % mod"
   ]
  },
  {
   "cell_type": "markdown",
   "id": "interracial-wisdom",
   "metadata": {},
   "source": [
    "Función encargada de, dada la variable i, calcular la clave de descifrado"
   ]
  },
  {
   "cell_type": "code",
   "execution_count": 42,
   "id": "explicit-excitement",
   "metadata": {},
   "outputs": [],
   "source": [
    "def calculateDecodingKey(i, mod):\n",
    "    a, b = calculateEncodingKey(i, mod)\n",
    "    inverseA = inverse(a, mod)\n",
    "    return inverseA, (-(inverseA * b)) % mod"
   ]
  },
  {
   "cell_type": "markdown",
   "id": "false-advance",
   "metadata": {},
   "source": [
    "Función encargada de cifrar un mensaje en un alfabeto concreto"
   ]
  },
  {
   "cell_type": "code",
   "execution_count": 43,
   "id": "linear-affiliation",
   "metadata": {},
   "outputs": [],
   "source": [
    "def encodeMessage(alphabet, data):\n",
    "    # Iterativamente se descifra cada caracter del dato\n",
    "    mod = len(alphabet)\n",
    "    a, b = calculateEncodingKey(-1, mod)\n",
    "    message = \"\"\n",
    "    for i in range(len(data)):\n",
    "        # Se calcula la posicion en el alfabeto como pos = a*n + b\n",
    "        message += alphabet[((a * alphabet.index(data[i])) + b) % mod]    \n",
    "    return message"
   ]
  },
  {
   "cell_type": "markdown",
   "id": "tutorial-capacity",
   "metadata": {},
   "source": [
    "Función encargada de descifrar un mensaje en un alfabeto concreto"
   ]
  },
  {
   "cell_type": "code",
   "execution_count": 44,
   "id": "optimum-joseph",
   "metadata": {},
   "outputs": [],
   "source": [
    "def decodeMessage(alphabet, data):\n",
    "    mod = len(alphabet)\n",
    "    # Iterativamente se descifra cada caracter del dato\n",
    "    line = 1\n",
    "    a, b = calculateDecodingKey(line, mod)\n",
    "    lastChar = \"\"\n",
    "    message = \"\"\n",
    "    for i in range(len(data)):\n",
    "        # Se calcula la posicion en el alfabeto como pos = a*n + b\n",
    "        datum = alphabet[((a * alphabet.index(data[i])) + b) % mod] \n",
    "\n",
    "        # Si se detectan dos espacios seguidos se incrementa la linea\n",
    "        if(datum == \" \") & (lastChar == \" \"):\n",
    "            line += 1\n",
    "            # Al cambiar la linea se recalculan las claves de descrifrado\n",
    "            a, b = calculateDecodingKey(line, mod)\n",
    "            # Se resetea el ultimo caracter por si el siguiente es justo un espacio y se añade el \\n\n",
    "            lastChar = \"\"\n",
    "            message = message[:len(message)-1] + \"\\n\"\n",
    "        else:\n",
    "            message += datum\n",
    "            lastChar = datum\n",
    "            \n",
    "    return message"
   ]
  },
  {
   "cell_type": "markdown",
   "id": "existing-measurement",
   "metadata": {},
   "source": [
    "### Problema a resolver\n",
    "\n",
    "Supongamos que un mensaje en claro lo ciframos con sustitución monoalfabética de forma que para cada línea del mensaje en claro usamos la **clave de cifrado:**\n",
    "\n",
    "\n",
    "<center>$(64^{i}, i  . 5)\\;\\epsilon\\;({\\mathbb{Z}_{81}})^{2}$</center>\n",
    "\n",
    "Siendo i el lugar que ocupa la línea dentro del mensaje (como hemos hecho en las prácticas anteriores, los cambios de línea de los mensajes en claro los codificamos como dos espacios). Si el mensaje cifrado es el dado en el archivo data.txt, obtener el mensaje en claro."
   ]
  },
  {
   "cell_type": "code",
   "execution_count": 45,
   "id": "twenty-jersey",
   "metadata": {},
   "outputs": [
    {
     "name": "stdout",
     "output_type": "stream",
     "text": [
      "Dato: ÁeóÍ ebá 5b-CeóÍósUÍCs sÍ2UeÍÚLVVpt)utÍoáÍez2ehÍÍíN1mX-ñjA1E-OmimjX-wOyimj3wPFé13iAimÚj-mj31-OXwÚjF-OwjjbmYf2áUspY7ÍíPomY íYy3KYí ÚoPbbmEYÓ YP:3mbYyÁLÁYY4v6z6(znmsnzh(v:6zW6fW6zvoz(vóp-z6(6MpWÉzxpOFpzzÍ.íÍa3ñcahuiÍa.Í3uV Ía,ua úc.uVáúua3ñca5y(Zj9aa)r7NOFyWOwóyOÁNuukYóRYOKyRYKdRkÁy(OOIiPúGTókCF5yaó95FCyCsaTó)aQAQóiZGZ(\n",
      "\n",
      "Alfabeto: aábcdeéfghiíjklmnñoópqrstuúvwxyzAÁBCDEÉFGHIÍJKLMNÑOÓPQRSTUÚVWXYZ0123456789 ,.:-()\n",
      "\n",
      "Modulo para operaciones : 81\n",
      "\n",
      "Mensaje descifrado: Las matemáticas son como una CORRIENTE de agua.\n",
      "Existen diversas teorías complicadas, es cierto, pero\n",
      "la LÓGICA básica es muy sencilla. De igual modo\n",
      "que el AGUA fluye desde un lugar elevado hacia\n",
      "otro más bajo tomando la distancia más CORTA,\n",
      "sólo hay una corriente matemática.\n",
      "(1Q84, Haruki Murakami, Kioto 1949)\n"
     ]
    }
   ],
   "source": [
    "# Se obtiene el dato cifrado y el alfabeto de sus ficheros y se calcula el modulo en el que operar\n",
    "data = getText(\"./data/data.txt\")\n",
    "alphabet = getText(\"./data/alphabet.txt\")\n",
    "print(\"Dato: \" +data+ \"\\n\")\n",
    "print(\"Alfabeto: \" +alphabet+ \"\\n\")\n",
    "print(\"Modulo para operaciones : \" +str(len(alphabet))+ \"\\n\")\n",
    "        \n",
    "# Se cifra o descifra dependiendo del problema\n",
    "#print(\"Mensaje cifrado: \" +encodeMessage(alphabet, data)+ \"\\n\")\n",
    "print(\"Mensaje descifrado: \" +decodeMessage(alphabet, data))\n",
    "    "
   ]
  }
 ],
 "metadata": {
  "kernelspec": {
   "display_name": "Python 3",
   "language": "python",
   "name": "python3"
  },
  "language_info": {
   "codemirror_mode": {
    "name": "ipython",
    "version": 3
   },
   "file_extension": ".py",
   "mimetype": "text/x-python",
   "name": "python",
   "nbconvert_exporter": "python",
   "pygments_lexer": "ipython3",
   "version": "3.8.5"
  }
 },
 "nbformat": 4,
 "nbformat_minor": 5
}
