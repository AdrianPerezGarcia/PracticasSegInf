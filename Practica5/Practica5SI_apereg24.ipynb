{
 "cells": [
  {
   "cell_type": "markdown",
   "id": "cosmetic-airline",
   "metadata": {},
   "source": [
    "# **Práctica 5: Simulación de un sistema criptográfico de clave privada: Sustitución Monoalfabética**\n",
    "\n",
    "Realizada por Adrián Pérez García el 12/04/2021"
   ]
  },
  {
   "cell_type": "markdown",
   "id": "everyday-childhood",
   "metadata": {},
   "source": [
    "### Funciones auxiliares"
   ]
  },
  {
   "cell_type": "markdown",
   "id": "fancy-advance",
   "metadata": {},
   "source": [
    "Función encargada de obtener un texto de un fichero"
   ]
  },
  {
   "cell_type": "code",
   "execution_count": 6,
   "id": "existing-elements",
   "metadata": {},
   "outputs": [],
   "source": [
    "def getText(path):\n",
    "    # Se obtiene el texto del fichero\n",
    "    file = open(path, 'r', encoding='utf8')\n",
    "    text = file.read()\n",
    "    file.close()\n",
    "    \n",
    "    return text"
   ]
  },
  {
   "cell_type": "markdown",
   "id": "instant-meeting",
   "metadata": {},
   "source": [
    "Función auxiliar para calcular el inverso en un determinado modulo (Siempre va a existir)"
   ]
  },
  {
   "cell_type": "code",
   "execution_count": 7,
   "id": "stylish-spotlight",
   "metadata": {},
   "outputs": [],
   "source": [
    "def inverse(a, mod):\n",
    "    return pow(a, -1, mod)"
   ]
  },
  {
   "cell_type": "markdown",
   "id": "gentle-bridges",
   "metadata": {},
   "source": [
    "Función encargada de, dada la variable i, calcular la clave de cifrado"
   ]
  },
  {
   "cell_type": "code",
   "execution_count": 24,
   "id": "dangerous-dublin",
   "metadata": {},
   "outputs": [],
   "source": [
    "def calculateEncodingKey(i, mod):\n",
    "    a = 19\n",
    "    b = 18\n",
    "    return a, b"
   ]
  },
  {
   "cell_type": "markdown",
   "id": "interracial-wisdom",
   "metadata": {},
   "source": [
    "Función encargada de, dada la variable i, calcular la clave de descifrado"
   ]
  },
  {
   "cell_type": "code",
   "execution_count": 25,
   "id": "explicit-excitement",
   "metadata": {},
   "outputs": [],
   "source": [
    "def calculateDecodingKey(i, mod):\n",
    "    a, b = calculateEncodingKey(i, mod)\n",
    "    inverseA = inverse(a, mod)\n",
    "    return inverseA, (-(inverseA * b)) % mod"
   ]
  },
  {
   "cell_type": "markdown",
   "id": "rolled-token",
   "metadata": {},
   "source": [
    "Función encargada de cifrar un mensaje en un alfabeto concreto"
   ]
  },
  {
   "cell_type": "code",
   "execution_count": 26,
   "id": "imposed-membrane",
   "metadata": {},
   "outputs": [],
   "source": [
    "def encodeMessage(alphabet, data):\n",
    "    # Iterativamente se descifra cada caracter del dato\n",
    "    mod = len(alphabet)\n",
    "    a, b = calculateEncodingKey(-1, mod)\n",
    "    message = \"\"\n",
    "    for i in range(len(data)):\n",
    "        # Se calcula la posicion en el alfabeto como pos = a*n + b\n",
    "        message += alphabet[((a * alphabet.index(data[i])) + b) % mod]    \n",
    "    return message"
   ]
  },
  {
   "cell_type": "markdown",
   "id": "convinced-newcastle",
   "metadata": {},
   "source": [
    "Función encargada de descifrar un mensaje en un alfabeto concreto"
   ]
  },
  {
   "cell_type": "code",
   "execution_count": 29,
   "id": "distinguished-consensus",
   "metadata": {},
   "outputs": [],
   "source": [
    "def decodeMessage(alphabet, data):\n",
    "    mod = len(alphabet)\n",
    "    # Iterativamente se descifra cada caracter del dato\n",
    "    line = 1\n",
    "    a, b = calculateDecodingKey(line, mod)\n",
    "    lastChar = \"\"\n",
    "    message = \"\"\n",
    "    for i in range(len(data)):\n",
    "        # Se calcula la posicion en el alfabeto como pos = a*n + b\n",
    "        datum = alphabet[((a * alphabet.index(data[i])) + b) % mod] \n",
    "\n",
    "        # Si se detectan dos espacios seguidos se incrementa la linea\n",
    "        if(datum == \" \") & (lastChar == \" \"):\n",
    "            line += 1\n",
    "            # Al cambiar la linea se recalculan las claves de descrifrado\n",
    "            a, b = calculateEncodingKeyExtra(line, mod)\n",
    "            # Se resetea el ultimo caracter por si el siguiente es justo un espacio y se añade el \\n\n",
    "            lastChar = \"\"\n",
    "            message = message[:len(message)-1] + \"\\n\"\n",
    "        else:\n",
    "            message += datum\n",
    "            lastChar = datum\n",
    "    return message"
   ]
  },
  {
   "cell_type": "markdown",
   "id": "existing-measurement",
   "metadata": {},
   "source": [
    "### Problema a resolver\n",
    "\n",
    "Supongamos que un mensaje en claro lo ciframos con sustitución monoalfabética de forma que para cada línea del mensaje en claro usamos la **clave de cifrado:**\n",
    "\n",
    "\n",
    "<center>$(64^{i}, i  . 5)\\;\\epsilon\\;({\\mathbb{Z}_{81}})^{2}$</center>\n",
    "\n",
    "Siendo i el lugar que ocupa la línea dentro del mensaje (como hemos hecho en las prácticas anteriores, los cambios de línea de los mensajes en claro los codificamos como dos espacios). Si el mensaje cifrado es el dado en el archivo data.txt, obtener el mensaje en claro."
   ]
  },
  {
   "cell_type": "code",
   "execution_count": 33,
   "id": "twenty-jersey",
   "metadata": {},
   "outputs": [
    {
     "name": "stdout",
     "output_type": "stream",
     "text": [
      "Dato: ADRIAN PEREZ GARCIA\n",
      "\n",
      "Alfabeto: ABCDEFGHIJKLMNÑOPQRSTUVWXYZ \n",
      "\n",
      "Modulo para operaciones : 28\n",
      "\n",
      "Mensaje cifrado: RSXCRN ÑKXKI TRXACR\n",
      "\n",
      "Mensaje descifrado: CLAZCN VÑAÑX TCAIZC\n"
     ]
    }
   ],
   "source": [
    "# Se obtiene el dato cifrado y el alfabeto de sus ficheros y se calcula el modulo en el que operar\n",
    "data = getText(\"./data/data2.txt\")\n",
    "alphabet = getText(\"./data/alphabet2.txt\")\n",
    "print(\"Dato: \" +data+ \"\\n\")\n",
    "print(\"Alfabeto: \" +alphabet+ \"\\n\")\n",
    "print(\"Modulo para operaciones : \" +str(len(alphabet))+ \"\\n\")\n",
    "        \n",
    "# Se cifra o descifra dependiendo del problema\n",
    "print(\"Mensaje cifrado: \" +encodeMessage(alphabet, data)+ \"\\n\")\n",
    "print(\"Mensaje descifrado: \" +decodeMessage(alphabet, data))\n",
    "    "
   ]
  },
  {
   "cell_type": "code",
   "execution_count": null,
   "id": "becoming-spell",
   "metadata": {},
   "outputs": [],
   "source": []
  }
 ],
 "metadata": {
  "kernelspec": {
   "display_name": "Python 3",
   "language": "python",
   "name": "python3"
  },
  "language_info": {
   "codemirror_mode": {
    "name": "ipython",
    "version": 3
   },
   "file_extension": ".py",
   "mimetype": "text/x-python",
   "name": "python",
   "nbconvert_exporter": "python",
   "pygments_lexer": "ipython3",
   "version": "3.8.5"
  }
 },
 "nbformat": 4,
 "nbformat_minor": 5
}
