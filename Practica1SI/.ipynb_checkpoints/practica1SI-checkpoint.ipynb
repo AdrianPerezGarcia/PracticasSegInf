{
 "cells": [
  {
   "cell_type": "markdown",
   "id": "municipal-richardson",
   "metadata": {},
   "source": [
    "# **Práctica 1: Fuente de información asociada a un texto**\n",
    "\n",
    "Realizada por Adrián Pérez García el 23/02/2021"
   ]
  },
  {
   "cell_type": "markdown",
   "id": "prescribed-festival",
   "metadata": {},
   "source": [
    "Se insertan las librerias necesarias"
   ]
  },
  {
   "cell_type": "code",
   "execution_count": 111,
   "id": "horizontal-district",
   "metadata": {},
   "outputs": [],
   "source": [
    "import math\n",
    "import operator\n",
    "from collections import Counter"
   ]
  },
  {
   "cell_type": "markdown",
   "id": "sticky-exemption",
   "metadata": {},
   "source": [
    "Se obtienen los datos del fichero en el mismo directorio y son formateados como se requiere en el enunciado"
   ]
  },
  {
   "cell_type": "code",
   "execution_count": 112,
   "id": "powered-model",
   "metadata": {},
   "outputs": [
    {
     "name": "stdout",
     "output_type": "stream",
     "text": [
      "El texto introducido es: \n",
      "\n",
      "La noche cae, brumosa ya y morada.\n",
      "Vagas claridades malvas y verdes perduran tras la torre de la iglesia.\n",
      "El camino sube, lleno de sombras, de campanillas, de fragancia de hierba,\n",
      "de canciones, de cansancio y de anhelo.\n"
     ]
    }
   ],
   "source": [
    "file = open('data.txt', 'r', encoding='utf8')\n",
    "text = file.read()\n",
    "file.close()\n",
    "\n",
    "print(\"El texto introducido es: \\n\")\n",
    "print(text)\n",
    "\n",
    "# Se cambia cada salto de linea por dos espacios como manda el guión\n",
    "text = text.replace(\"\\n\", \"  \")"
   ]
  },
  {
   "cell_type": "markdown",
   "id": "dependent-methodology",
   "metadata": {},
   "source": [
    "Se obtiene la frecuencia y probabilidad de cada caracter"
   ]
  },
  {
   "cell_type": "code",
   "execution_count": 113,
   "id": "subject-music",
   "metadata": {},
   "outputs": [],
   "source": [
    "frequencies = dict()\n",
    "for caracter in text:\n",
    "    if caracter in frequencies.keys():\n",
    "        frequencies[caracter] = frequencies[caracter] + 1\n",
    "    else:\n",
    "        frequencies[caracter] = 1\n",
    "        \n",
    "absFreq = sum(frequencies.values())\n",
    "\n",
    "odds = dict()\n",
    "for key in frequencies:\n",
    "    odds[key] = frequencies[key]/absFreq"
   ]
  },
  {
   "cell_type": "markdown",
   "id": "together-delay",
   "metadata": {},
   "source": [
    "### Ejercicio 1\n",
    "**Frecuencia absoluta y la probabilidad para el símbolo \"d\".**"
   ]
  },
  {
   "cell_type": "markdown",
   "id": "tender-crest",
   "metadata": {},
   "source": []
  },
  {
   "cell_type": "code",
   "execution_count": 114,
   "id": "cloudy-invalid",
   "metadata": {},
   "outputs": [
    {
     "name": "stdout",
     "output_type": "stream",
     "text": [
      "Frecuencia para el simbolo d: 13\n",
      "Probabilidad para el simbolo d: 0.05855855855855856\n",
      "Probabilidad para el simbolo d redondeada al tercer decimal: 0.059\n"
     ]
    }
   ],
   "source": [
    "print(\"Frecuencia para el simbolo d:\", frequencies[\"d\"])\n",
    "print(\"Probabilidad para el simbolo d:\" , odds[\"d\"]) \n",
    "print(\"Probabilidad para el simbolo d redondeada al tercer decimal:\" , round(odds[\"d\"], 3))"
   ]
  },
  {
   "cell_type": "markdown",
   "id": "everyday-people",
   "metadata": {},
   "source": [
    "### Ejercicio 2\n",
    "**Entropia en bits de la fuente de información.**"
   ]
  },
  {
   "cell_type": "code",
   "execution_count": 115,
   "id": "optional-lighting",
   "metadata": {},
   "outputs": [
    {
     "name": "stdout",
     "output_type": "stream",
     "text": [
      "Entropia de la fuente de informacion: 4.034650223284869\n",
      "Entropia de la fuente de informacion redondeada al tercer decimal: 4.035\n"
     ]
    }
   ],
   "source": [
    "entropy:float = 0\n",
    "for key in frequencies:\n",
    "    entropy += odds[key] * math.log2(1/odds[key])\n",
    "    \n",
    "print(\"Entropia de la fuente de informacion:\", entropy)\n",
    "print(\"Entropia de la fuente de informacion redondeada al tercer decimal:\", round(entropy,3))"
   ]
  },
  {
   "cell_type": "markdown",
   "id": "silent-exemption",
   "metadata": {},
   "source": [
    "### Ejercicio 3\n",
    "**Ordena la fuente de información de mayor a menos probabilidad (tanto el símbolo, como la frecuencia absoluta,\n",
    "como la probabilidad).**"
   ]
  },
  {
   "cell_type": "code",
   "execution_count": 116,
   "id": "expressed-subscription",
   "metadata": {},
   "outputs": [
    {
     "name": "stdout",
     "output_type": "stream",
     "text": [
      "Simbolo\t\t\tFrecuencia\t\tProbabilidad redondeada\t\tProbabilidad\n",
      "' '\t\t\t'40'\t\t\t'0.18'\t\t\t\t'0.18018018018018017'\n",
      "'a'\t\t\t'30'\t\t\t'0.135'\t\t\t\t'0.13513513513513514'\n",
      "'e'\t\t\t'21'\t\t\t'0.095'\t\t\t\t'0.0945945945945946'\n",
      "'s'\t\t\t'13'\t\t\t'0.059'\t\t\t\t'0.05855855855855856'\n",
      "'d'\t\t\t'13'\t\t\t'0.059'\t\t\t\t'0.05855855855855856'\n",
      "'r'\t\t\t'12'\t\t\t'0.054'\t\t\t\t'0.05405405405405406'\n",
      "'n'\t\t\t'11'\t\t\t'0.05'\t\t\t\t'0.04954954954954955'\n",
      "'l'\t\t\t'11'\t\t\t'0.05'\t\t\t\t'0.04954954954954955'\n",
      "'o'\t\t\t'10'\t\t\t'0.045'\t\t\t\t'0.04504504504504504'\n",
      "'c'\t\t\t'10'\t\t\t'0.045'\t\t\t\t'0.04504504504504504'\n",
      "'i'\t\t\t'9'\t\t\t'0.041'\t\t\t\t'0.04054054054054054'\n",
      "','\t\t\t'6'\t\t\t'0.027'\t\t\t\t'0.02702702702702703'\n",
      "'m'\t\t\t'6'\t\t\t'0.027'\t\t\t\t'0.02702702702702703'\n",
      "'b'\t\t\t'4'\t\t\t'0.018'\t\t\t\t'0.018018018018018018'\n",
      "'y'\t\t\t'4'\t\t\t'0.018'\t\t\t\t'0.018018018018018018'\n",
      "'h'\t\t\t'3'\t\t\t'0.014'\t\t\t\t'0.013513513513513514'\n",
      "'u'\t\t\t'3'\t\t\t'0.014'\t\t\t\t'0.013513513513513514'\n",
      "'.'\t\t\t'3'\t\t\t'0.014'\t\t\t\t'0.013513513513513514'\n",
      "'g'\t\t\t'3'\t\t\t'0.014'\t\t\t\t'0.013513513513513514'\n",
      "'v'\t\t\t'2'\t\t\t'0.009'\t\t\t\t'0.009009009009009009'\n",
      "'p'\t\t\t'2'\t\t\t'0.009'\t\t\t\t'0.009009009009009009'\n",
      "'t'\t\t\t'2'\t\t\t'0.009'\t\t\t\t'0.009009009009009009'\n",
      "'L'\t\t\t'1'\t\t\t'0.005'\t\t\t\t'0.0045045045045045045'\n",
      "'V'\t\t\t'1'\t\t\t'0.005'\t\t\t\t'0.0045045045045045045'\n",
      "'E'\t\t\t'1'\t\t\t'0.005'\t\t\t\t'0.0045045045045045045'\n",
      "'f'\t\t\t'1'\t\t\t'0.005'\t\t\t\t'0.0045045045045045045'\n"
     ]
    }
   ],
   "source": [
    "# Se ordena el diccionario por probabilidad para imprimirlo\n",
    "oddsSorted = sorted(odds.items(), key=operator.itemgetter(1), reverse=True)\n",
    "\n",
    "print(\"Simbolo\\t\\t\\tFrecuencia\\t\\tProbabilidad redondeada\\t\\tProbabilidad\")\n",
    "for element in oddsSorted:\n",
    "    key = element[0]\n",
    "    print(\"'\" +str(key)+ \"'\\t\\t\\t'\" +str(frequencies[key])+ \"'\\t\\t\\t'\" +str(round(odds[key], 3))+ \"'\\t\\t\\t\\t'\" +str(odds[key])+ \"'\")"
   ]
  },
  {
   "cell_type": "markdown",
   "id": "faced-retreat",
   "metadata": {},
   "source": [
    "### Extra\n",
    "**Obtener la fuente asociada al texto anterior, considerando como símbolos de la fuente las secuencias de longitud dos que van apareciendo en dicho texto. Ordena esta fuente de información de mayor a menor probabilidad.**"
   ]
  },
  {
   "cell_type": "code",
   "execution_count": 117,
   "id": "prime-scheduling",
   "metadata": {},
   "outputs": [
    {
     "name": "stdout",
     "output_type": "stream",
     "text": [
      "Simbolo\t\t\tFrecuencia\t\tProbabilidad redondeada\t\tProbabilidad\n",
      "', '\t\t\t'5'\t\t\t'0.045'\t\t\t\t'0.04504504504504504'\n",
      "'de'\t\t\t'5'\t\t\t'0.045'\t\t\t\t'0.04504504504504504'\n",
      "'e '\t\t\t'4'\t\t\t'0.036'\t\t\t\t'0.036036036036036036'\n",
      "' c'\t\t\t'3'\t\t\t'0.027'\t\t\t\t'0.02702702702702703'\n",
      "'a '\t\t\t'3'\t\t\t'0.027'\t\t\t\t'0.02702702702702703'\n",
      "'as'\t\t\t'3'\t\t\t'0.027'\t\t\t\t'0.02702702702702703'\n",
      "'o '\t\t\t'3'\t\t\t'0.027'\t\t\t\t'0.02702702702702703'\n",
      "' d'\t\t\t'3'\t\t\t'0.027'\t\t\t\t'0.02702702702702703'\n",
      "'br'\t\t\t'2'\t\t\t'0.018'\t\t\t\t'0.018018018018018018'\n",
      "' m'\t\t\t'2'\t\t\t'0.018'\t\t\t\t'0.018018018018018018'\n",
      "'ad'\t\t\t'2'\t\t\t'0.018'\t\t\t\t'0.018018018018018018'\n",
      "'a.'\t\t\t'2'\t\t\t'0.018'\t\t\t\t'0.018018018018018018'\n",
      "'  '\t\t\t'2'\t\t\t'0.018'\t\t\t\t'0.018018018018018018'\n",
      "'ga'\t\t\t'2'\t\t\t'0.018'\t\t\t\t'0.018018018018018018'\n",
      "'s '\t\t\t'2'\t\t\t'0.018'\t\t\t\t'0.018018018018018018'\n",
      "'es'\t\t\t'2'\t\t\t'0.018'\t\t\t\t'0.018018018018018018'\n",
      "'y '\t\t\t'2'\t\t\t'0.018'\t\t\t\t'0.018018018018018018'\n",
      "'er'\t\t\t'2'\t\t\t'0.018'\t\t\t\t'0.018018018018018018'\n",
      "'ra'\t\t\t'2'\t\t\t'0.018'\t\t\t\t'0.018018018018018018'\n",
      "' l'\t\t\t'2'\t\t\t'0.018'\t\t\t\t'0.018018018018018018'\n",
      "'am'\t\t\t'2'\t\t\t'0.018'\t\t\t\t'0.018018018018018018'\n",
      "'ll'\t\t\t'2'\t\t\t'0.018'\t\t\t\t'0.018018018018018018'\n",
      "'nc'\t\t\t'2'\t\t\t'0.018'\t\t\t\t'0.018018018018018018'\n",
      "'ca'\t\t\t'2'\t\t\t'0.018'\t\t\t\t'0.018018018018018018'\n",
      "'La'\t\t\t'1'\t\t\t'0.009'\t\t\t\t'0.009009009009009009'\n",
      "' n'\t\t\t'1'\t\t\t'0.009'\t\t\t\t'0.009009009009009009'\n",
      "'oc'\t\t\t'1'\t\t\t'0.009'\t\t\t\t'0.009009009009009009'\n",
      "'he'\t\t\t'1'\t\t\t'0.009'\t\t\t\t'0.009009009009009009'\n",
      "'ae'\t\t\t'1'\t\t\t'0.009'\t\t\t\t'0.009009009009009009'\n",
      "'um'\t\t\t'1'\t\t\t'0.009'\t\t\t\t'0.009009009009009009'\n",
      "'os'\t\t\t'1'\t\t\t'0.009'\t\t\t\t'0.009009009009009009'\n",
      "'ya'\t\t\t'1'\t\t\t'0.009'\t\t\t\t'0.009009009009009009'\n",
      "' y'\t\t\t'1'\t\t\t'0.009'\t\t\t\t'0.009009009009009009'\n",
      "'or'\t\t\t'1'\t\t\t'0.009'\t\t\t\t'0.009009009009009009'\n",
      "'Va'\t\t\t'1'\t\t\t'0.009'\t\t\t\t'0.009009009009009009'\n",
      "'cl'\t\t\t'1'\t\t\t'0.009'\t\t\t\t'0.009009009009009009'\n",
      "'ar'\t\t\t'1'\t\t\t'0.009'\t\t\t\t'0.009009009009009009'\n",
      "'id'\t\t\t'1'\t\t\t'0.009'\t\t\t\t'0.009009009009009009'\n",
      "'al'\t\t\t'1'\t\t\t'0.009'\t\t\t\t'0.009009009009009009'\n",
      "'va'\t\t\t'1'\t\t\t'0.009'\t\t\t\t'0.009009009009009009'\n",
      "'ve'\t\t\t'1'\t\t\t'0.009'\t\t\t\t'0.009009009009009009'\n",
      "'rd'\t\t\t'1'\t\t\t'0.009'\t\t\t\t'0.009009009009009009'\n",
      "' p'\t\t\t'1'\t\t\t'0.009'\t\t\t\t'0.009009009009009009'\n",
      "'du'\t\t\t'1'\t\t\t'0.009'\t\t\t\t'0.009009009009009009'\n",
      "'n '\t\t\t'1'\t\t\t'0.009'\t\t\t\t'0.009009009009009009'\n",
      "'tr'\t\t\t'1'\t\t\t'0.009'\t\t\t\t'0.009009009009009009'\n",
      "'to'\t\t\t'1'\t\t\t'0.009'\t\t\t\t'0.009009009009009009'\n",
      "'rr'\t\t\t'1'\t\t\t'0.009'\t\t\t\t'0.009009009009009009'\n",
      "'ig'\t\t\t'1'\t\t\t'0.009'\t\t\t\t'0.009009009009009009'\n",
      "'le'\t\t\t'1'\t\t\t'0.009'\t\t\t\t'0.009009009009009009'\n",
      "'si'\t\t\t'1'\t\t\t'0.009'\t\t\t\t'0.009009009009009009'\n",
      "'El'\t\t\t'1'\t\t\t'0.009'\t\t\t\t'0.009009009009009009'\n",
      "'in'\t\t\t'1'\t\t\t'0.009'\t\t\t\t'0.009009009009009009'\n",
      "'su'\t\t\t'1'\t\t\t'0.009'\t\t\t\t'0.009009009009009009'\n",
      "'be'\t\t\t'1'\t\t\t'0.009'\t\t\t\t'0.009009009009009009'\n",
      "'en'\t\t\t'1'\t\t\t'0.009'\t\t\t\t'0.009009009009009009'\n",
      "' s'\t\t\t'1'\t\t\t'0.009'\t\t\t\t'0.009009009009009009'\n",
      "'om'\t\t\t'1'\t\t\t'0.009'\t\t\t\t'0.009009009009009009'\n",
      "'pa'\t\t\t'1'\t\t\t'0.009'\t\t\t\t'0.009009009009009009'\n",
      "'ni'\t\t\t'1'\t\t\t'0.009'\t\t\t\t'0.009009009009009009'\n",
      "' f'\t\t\t'1'\t\t\t'0.009'\t\t\t\t'0.009009009009009009'\n",
      "'ia'\t\t\t'1'\t\t\t'0.009'\t\t\t\t'0.009009009009009009'\n",
      "'hi'\t\t\t'1'\t\t\t'0.009'\t\t\t\t'0.009009009009009009'\n",
      "'ba'\t\t\t'1'\t\t\t'0.009'\t\t\t\t'0.009009009009009009'\n",
      "'io'\t\t\t'1'\t\t\t'0.009'\t\t\t\t'0.009009009009009009'\n",
      "'ne'\t\t\t'1'\t\t\t'0.009'\t\t\t\t'0.009009009009009009'\n",
      "'s,'\t\t\t'1'\t\t\t'0.009'\t\t\t\t'0.009009009009009009'\n",
      "'ns'\t\t\t'1'\t\t\t'0.009'\t\t\t\t'0.009009009009009009'\n",
      "'an'\t\t\t'1'\t\t\t'0.009'\t\t\t\t'0.009009009009009009'\n",
      "'ci'\t\t\t'1'\t\t\t'0.009'\t\t\t\t'0.009009009009009009'\n",
      "' a'\t\t\t'1'\t\t\t'0.009'\t\t\t\t'0.009009009009009009'\n",
      "'nh'\t\t\t'1'\t\t\t'0.009'\t\t\t\t'0.009009009009009009'\n",
      "'el'\t\t\t'1'\t\t\t'0.009'\t\t\t\t'0.009009009009009009'\n",
      "'o.'\t\t\t'1'\t\t\t'0.009'\t\t\t\t'0.009009009009009009'\n"
     ]
    }
   ],
   "source": [
    "# Se usa un bucle while para recorrer el texto de 2 en 2\n",
    "frequenciesExtra = dict()\n",
    "i = 0\n",
    "while i < len(text)-1:\n",
    "    letra = text[i] + text[i+1]\n",
    "    if letra in frequenciesExtra:\n",
    "        frequenciesExtra[letra] = frequenciesExtra[letra] + 1\n",
    "    else:\n",
    "        frequenciesExtra[letra] = 1\n",
    "    i += 2\n",
    "    \n",
    "# Se obtiene la frecuencia absoluta y probabilidades igual que en el ejercicio anterior\n",
    "absFreqExtra = sum(frequenciesExtra.values())  \n",
    "oddsExtra = dict()\n",
    "for key in frequenciesExtra:\n",
    "    oddsExtra[key] = frequenciesExtra[key]/absFreqExtra\n",
    "    \n",
    "# Se ordena el diccionario por probabilidad para imprimirlo\n",
    "oddsSortedExtra = sorted(oddsExtra.items(), key=operator.itemgetter(1), reverse=True)\n",
    "print(\"Simbolo\\t\\t\\tFrecuencia\\t\\tProbabilidad redondeada\\t\\tProbabilidad\")\n",
    "for element in oddsSortedExtra:\n",
    "    key = element[0]\n",
    "    print(\"'\" +str(key)+ \"'\\t\\t\\t'\" +str(frequenciesExtra[key])+ \"'\\t\\t\\t'\" +str(round(oddsExtra[key], 3))+ \"'\\t\\t\\t\\t'\" +str(oddsExtra[key])+ \"'\")"
   ]
  }
 ],
 "metadata": {
  "kernelspec": {
   "display_name": "Python 3",
   "language": "python",
   "name": "python3"
  },
  "language_info": {
   "codemirror_mode": {
    "name": "ipython",
    "version": 3
   },
   "file_extension": ".py",
   "mimetype": "text/x-python",
   "name": "python",
   "nbconvert_exporter": "python",
   "pygments_lexer": "ipython3",
   "version": "3.8.5"
  }
 },
 "nbformat": 4,
 "nbformat_minor": 5
}
