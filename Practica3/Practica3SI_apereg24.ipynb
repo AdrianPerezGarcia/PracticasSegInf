{
 "cells": [
  {
   "cell_type": "markdown",
   "id": "according-chapel",
   "metadata": {},
   "source": [
    "# **Práctica 3: Codificación binaria sin ruido**\n",
    "\n",
    "Realizada por Adrián Pérez García el 15/03/2021"
   ]
  },
  {
   "cell_type": "markdown",
   "id": "looking-sharing",
   "metadata": {},
   "source": [
    "Se importan las librerias necesarias"
   ]
  },
  {
   "cell_type": "code",
   "execution_count": 3,
   "id": "racial-entertainment",
   "metadata": {},
   "outputs": [],
   "source": [
    "import math"
   ]
  },
  {
   "cell_type": "markdown",
   "id": "western-problem",
   "metadata": {},
   "source": [
    "### Funciones auxiliares"
   ]
  },
  {
   "cell_type": "markdown",
   "id": "future-gabriel",
   "metadata": {},
   "source": [
    "Función encargada de obtener un texto de un fichero"
   ]
  },
  {
   "cell_type": "code",
   "execution_count": 4,
   "id": "alleged-kentucky",
   "metadata": {},
   "outputs": [],
   "source": [
    "def getText(path):\n",
    "    # Se obtiene el texto del fichero\n",
    "    file = open(path, 'r', encoding='utf8')\n",
    "    text = file.read()\n",
    "    file.close()\n",
    "    \n",
    "    return text"
   ]
  },
  {
   "cell_type": "markdown",
   "id": "refined-microphone",
   "metadata": {},
   "source": [
    "Función encargada de obtener el código binario de un fichero"
   ]
  },
  {
   "cell_type": "code",
   "execution_count": 5,
   "id": "caroline-factory",
   "metadata": {},
   "outputs": [],
   "source": [
    "def getCode(path):\n",
    "    # Se utiliza la funcion ya creada para leer el fichero y se formatea como codigo quitando las ,\n",
    "    return getText(path).replace(\",\",\"\").replace(\"\\n\", \"\")"
   ]
  },
  {
   "cell_type": "markdown",
   "id": "brown-father",
   "metadata": {},
   "source": [
    "Función decodificadora"
   ]
  },
  {
   "cell_type": "code",
   "execution_count": 6,
   "id": "innovative-doctrine",
   "metadata": {},
   "outputs": [],
   "source": [
    "def decodeMessage(code, alphabet, matrixRows, matrixColumns):\n",
    "    \n",
    "    # Se realiza la decodificacion lineal\n",
    "    linearDecoded = \"\"\n",
    "    for i in range(0, len(code), matrixColumns):\n",
    "        linearDecoded += code[i:i+matrixRows]\n",
    "    \n",
    "    # Se realiza la decodificacion con la fuente\n",
    "    message = \"\"\n",
    "    minLength = math.ceil(math.log(len(alphabet),2))\n",
    "    for i in range(0, len(linearDecoded), minLength):\n",
    "        message += alphabet[int(linearDecoded[i:i+minLength],2)]\n",
    "    \n",
    "    return message"
   ]
  },
  {
   "cell_type": "markdown",
   "id": "written-questionnaire",
   "metadata": {},
   "source": [
    "### Problema a resolver\n",
    "\n",
    "**Si la secuencia obtenida del canal es la indicada en data.txt obtener el mensaje original**"
   ]
  },
  {
   "cell_type": "code",
   "execution_count": 7,
   "id": "seasonal-germany",
   "metadata": {},
   "outputs": [
    {
     "name": "stdout",
     "output_type": "stream",
     "text": [
      "Alfabeto: aábcdeé AÁBCDEÉfghiíjklmnFGHIÍJKLMNoópqrstuúvwxyzOÓPQRSTUÚVWXYZ.,;¿?¡!\n",
      "\n",
      "Dato: 01010100000000000000000000000000000011100001010101010110110100101111001100000000101100000000101110110101010101010101010101010100000000101110011000000000000000000011100000000001010110110101010100000010110100101100000000000010011000101111001100000001111001010100101110011010110111001110011010110100101101111000000000101101010110110100101100000000000000101111100011001100000011100001010100000010110101010110011010110111100000000001111010011000000010011001010101010100000001010110011011001100101100000000000000000001111010011010110110011010011001111000000001111010011010011001010100000000000001010110011000000000101111001100000001111001010100101110011011001100000010110100000000000001010110011010011000000010110101010100101100101100000000101100000010011001111010011001010111001100101101\n",
      "\n",
      "El mensaje decodificado es: La práctica está completa. Muy bien, lo has conseguido!!\n"
     ]
    }
   ],
   "source": [
    "# Se obtienen el alfabeto y el dato de los ficheros\n",
    "alphabet = getText(\"alphabet.txt\")\n",
    "code = getCode(\"data.txt\")\n",
    "print(\"Alfabeto: \" +alphabet+ \"\\n\")\n",
    "print(\"Dato: \" +code+ \"\\n\")\n",
    "# La función decodificadora se encarga del resto\n",
    "print(\"El mensaje decodificado es: \" +decodeMessage(code, alphabet, 3, 6))"
   ]
  },
  {
   "cell_type": "code",
   "execution_count": null,
   "id": "enabling-extra",
   "metadata": {},
   "outputs": [],
   "source": []
  }
 ],
 "metadata": {
  "kernelspec": {
   "display_name": "Python 3",
   "language": "python",
   "name": "python3"
  },
  "language_info": {
   "codemirror_mode": {
    "name": "ipython",
    "version": 3
   },
   "file_extension": ".py",
   "mimetype": "text/x-python",
   "name": "python",
   "nbconvert_exporter": "python",
   "pygments_lexer": "ipython3",
   "version": "3.8.5"
  }
 },
 "nbformat": 4,
 "nbformat_minor": 5
}
