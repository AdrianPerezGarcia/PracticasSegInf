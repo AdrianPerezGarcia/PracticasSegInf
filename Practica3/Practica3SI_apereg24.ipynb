{
 "cells": [
  {
   "cell_type": "markdown",
   "id": "according-chapel",
   "metadata": {},
   "source": [
    "# **Práctica 3: Codificación Q-aria sin ruido**\n",
    "\n",
    "Realizada por Adrián Pérez García el 15/03/2021"
   ]
  },
  {
   "cell_type": "markdown",
   "id": "measured-punishment",
   "metadata": {},
   "source": [
    "Se importan las librerias necesarias"
   ]
  },
  {
   "cell_type": "code",
   "execution_count": 18,
   "id": "racial-entertainment",
   "metadata": {},
   "outputs": [],
   "source": [
    "import math\n",
    "import numpy as np"
   ]
  },
  {
   "cell_type": "markdown",
   "id": "western-problem",
   "metadata": {},
   "source": [
    "### Funciones auxiliares"
   ]
  },
  {
   "cell_type": "markdown",
   "id": "future-gabriel",
   "metadata": {},
   "source": [
    "Función encargada de obtener un texto de un fichero"
   ]
  },
  {
   "cell_type": "code",
   "execution_count": 19,
   "id": "alleged-kentucky",
   "metadata": {},
   "outputs": [],
   "source": [
    "def getText(path):\n",
    "    # Se obtiene el texto del fichero\n",
    "    file = open(path, 'r', encoding='utf8')\n",
    "    text = file.read()\n",
    "    file.close()\n",
    "    \n",
    "    return text"
   ]
  },
  {
   "cell_type": "markdown",
   "id": "refined-microphone",
   "metadata": {},
   "source": [
    "Función encargada de obtener la lista binaria a decodificar de un fichero"
   ]
  },
  {
   "cell_type": "code",
   "execution_count": 20,
   "id": "caroline-factory",
   "metadata": {},
   "outputs": [],
   "source": [
    "def getCode(path):\n",
    "    # Se utiliza la funcion ya creada para leer el fichero y se formatea como codigo quitando las ,\n",
    "    return getText(path).replace(\",\",\"\").replace(\"\\n\", \"\")"
   ]
  },
  {
   "cell_type": "markdown",
   "id": "registered-colony",
   "metadata": {},
   "source": [
    "Funciones auxiliares para obtener una matriz de un fichero"
   ]
  },
  {
   "cell_type": "code",
   "execution_count": 21,
   "id": "amended-collaboration",
   "metadata": {},
   "outputs": [],
   "source": [
    "def getRawMatrix(path):\n",
    "    # Se lee el texto utilizando la funcion ya creada\n",
    "    text = getText(path)\n",
    "    # Se obtienen filas y columnas (Solo valido para el formato dado en los ficheros de datos)\n",
    "    rows = len(text.split(\"\\n\"))\n",
    "    i = 0\n",
    "    columns = 1\n",
    "    while(text[i] != \"]\"):\n",
    "        if(text[i] == \",\"):\n",
    "            columns += 1\n",
    "        i += 1\n",
    "    # Se formatea la matriz quitando todo elemento no numerico\n",
    "    return text.replace(\"\\n\",\"\").replace(\"[\", \"\").replace(\"]\", \"\").replace(\",\",\"\").replace(\" \", \"\"), rows, int(columns)\n",
    "\n",
    "def getNumpyMatrix(matrixRaw, rows, columns):\n",
    "    matrix = np.zeros((rows, columns), dtype=object)\n",
    "    for i in range(rows):\n",
    "        for j in range(columns):\n",
    "            matrix[i][j] = int(matrixRaw[i*columns+j])\n",
    "    return matrix"
   ]
  },
  {
   "cell_type": "markdown",
   "id": "brown-father",
   "metadata": {},
   "source": [
    "Función decodificadora"
   ]
  },
  {
   "cell_type": "code",
   "execution_count": 22,
   "id": "innovative-doctrine",
   "metadata": {},
   "outputs": [],
   "source": [
    "def decodeMessage(code, alphabet, rowsA, columnsA, mod):\n",
    "    # Se realiza la decodificacion lineal\n",
    "    linearDecoded = \"\"\n",
    "    for i in range(0, len(code), columnsA):\n",
    "        linearDecoded += code[i:i+rowsA]\n",
    "        if(len(code[i:i+rowsA]) != rowsA):\n",
    "            print(\"Hay cola (\" +code[i:i+rowsA]+ \")\\n\")\n",
    "    \n",
    "    # Se realiza la decodificacion con la fuente\n",
    "    message = \"\"\n",
    "    minLength = math.ceil(math.log(len(alphabet),mod))\n",
    "    print(\"Longitud mínima en bloque: \" + str(minLength) + \"\\n\")\n",
    "    for i in range(0, len(linearDecoded), minLength):\n",
    "        message += alphabet[int(linearDecoded[i:i+minLength], mod)]\n",
    "    \n",
    "    return message"
   ]
  },
  {
   "cell_type": "markdown",
   "id": "written-questionnaire",
   "metadata": {},
   "source": [
    "### Problema a resolver\n",
    "\n",
    "**Si la secuencia obtenida del canal es la indicada en data.txt obtener el mensaje original**"
   ]
  },
  {
   "cell_type": "code",
   "execution_count": 23,
   "id": "seasonal-germany",
   "metadata": {},
   "outputs": [
    {
     "name": "stdout",
     "output_type": "stream",
     "text": [
      "Alfabeto: ABCDEFGHIJKLM NÑOPQRSTUVWXYZ\n",
      "\n",
      "Dato: 03142311012341411112103142314043214310433002413243031423024132404321432024132043214303142314043214322224203142311012341233331304321430000000132102202413244043214233331303142314043214423403301234123031423031423103142311\n",
      "\n",
      "Modulo: 5\n",
      "\n",
      "Hay cola (1)\n",
      "\n",
      "Longitud mínima en bloque: 3\n",
      "\n",
      "El mensaje decodificado es: OTRO CUERPO SIN RUIDO\n"
     ]
    }
   ],
   "source": [
    "# Se obtienen el alfabeto y el dato de los ficheros\n",
    "alphabet = getText(\"./data/alphabet3.txt\")\n",
    "code = getCode(\"./data/data3.txt\")\n",
    "rawA, rowsA, columnsA = getRawMatrix(\"./data/matrix3.txt\")\n",
    "mod = 5\n",
    "matrixA = getNumpyMatrix(rawA, rowsA, columnsA)\n",
    "matrixG = np.concatenate((np.identity(len(matrixA)), matrixA), 1)\n",
    "\n",
    "print(\"Alfabeto: \" +alphabet+ \"\\n\")\n",
    "print(\"Dato: \" +code+ \"\\n\")\n",
    "print(\"Modulo: \" +str(mod)+ \"\\n\")\n",
    "# La función decodificadora se encarga del resto (Se imprime tomando dos espacios como un cambio de linea)\n",
    "print(\"El mensaje decodificado es: \" +decodeMessage(code, alphabet, len(matrixG), len(matrixG[0]), mod).replace(\"  \",\"\\n\"))"
   ]
  }
 ],
 "metadata": {
  "kernelspec": {
   "display_name": "Python 3",
   "language": "python",
   "name": "python3"
  },
  "language_info": {
   "codemirror_mode": {
    "name": "ipython",
    "version": 3
   },
   "file_extension": ".py",
   "mimetype": "text/x-python",
   "name": "python",
   "nbconvert_exporter": "python",
   "pygments_lexer": "ipython3",
   "version": "3.8.5"
  }
 },
 "nbformat": 4,
 "nbformat_minor": 5
}
