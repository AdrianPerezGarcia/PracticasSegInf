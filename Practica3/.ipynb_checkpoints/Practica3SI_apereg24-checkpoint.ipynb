{
 "cells": [
  {
   "cell_type": "markdown",
   "id": "according-chapel",
   "metadata": {},
   "source": [
    "# **Práctica 3: Codificación Q-aria sin ruido**\n",
    "\n",
    "Realizada por Adrián Pérez García el 15/03/2021"
   ]
  },
  {
   "cell_type": "markdown",
   "id": "measured-punishment",
   "metadata": {},
   "source": [
    "Se importan las librerias necesarias"
   ]
  },
  {
   "cell_type": "code",
   "execution_count": 13,
   "id": "racial-entertainment",
   "metadata": {},
   "outputs": [],
   "source": [
    "import math\n",
    "import numpy as np"
   ]
  },
  {
   "cell_type": "markdown",
   "id": "western-problem",
   "metadata": {},
   "source": [
    "### Funciones auxiliares"
   ]
  },
  {
   "cell_type": "markdown",
   "id": "future-gabriel",
   "metadata": {},
   "source": [
    "Función encargada de obtener un texto de un fichero"
   ]
  },
  {
   "cell_type": "code",
   "execution_count": 2,
   "id": "alleged-kentucky",
   "metadata": {},
   "outputs": [],
   "source": [
    "def getText(path):\n",
    "    # Se obtiene el texto del fichero\n",
    "    file = open(path, 'r', encoding='utf8')\n",
    "    text = file.read()\n",
    "    file.close()\n",
    "    \n",
    "    return text"
   ]
  },
  {
   "cell_type": "markdown",
   "id": "refined-microphone",
   "metadata": {},
   "source": [
    "Función encargada de obtener la lista binaria a decodificar de un fichero"
   ]
  },
  {
   "cell_type": "code",
   "execution_count": 3,
   "id": "caroline-factory",
   "metadata": {},
   "outputs": [],
   "source": [
    "def getCode(path):\n",
    "    # Se utiliza la funcion ya creada para leer el fichero y se formatea como codigo quitando las ,\n",
    "    return getText(path).replace(\",\",\"\").replace(\"\\n\", \"\")"
   ]
  },
  {
   "cell_type": "code",
   "execution_count": null,
   "id": "contained-vietnamese",
   "metadata": {},
   "outputs": [],
   "source": []
  },
  {
   "cell_type": "code",
   "execution_count": 49,
   "id": "amended-collaboration",
   "metadata": {},
   "outputs": [],
   "source": [
    "def getRawMatrix(path):\n",
    "    # Se lee el texto utilizando la funcion ya creada\n",
    "    text = getText(path)\n",
    "    # Se obtienen filas y columnas (Solo valido para el formato dado en los ficheros de datos)\n",
    "    rows = len(text.split(\"\\n\"))\n",
    "    i = 0\n",
    "    columns = 1\n",
    "    while(text[i] != \"]\"):\n",
    "        if(text[i] == \",\"):\n",
    "            columns += 1\n",
    "        i += 1\n",
    "    # Se formatea la matriz quitando todo elemento no numerico\n",
    "    return text.replace(\"\\n\",\"\").replace(\"[\", \"\").replace(\"]\", \"\").replace(\",\",\"\").replace(\" \", \"\"), rows, int(columns)\n",
    "\n",
    "def getNumpyMatrix(matrixRaw, rows, columns):\n",
    "    matrix = np.zeros((rows, columns), dtype=object)\n",
    "    for i in range(rows):\n",
    "        for j in range(columns):\n",
    "            matrix[i][j] = int(matrixRaw[i*columns+j])\n",
    "    return matrix"
   ]
  },
  {
   "cell_type": "markdown",
   "id": "brown-father",
   "metadata": {},
   "source": [
    "Función decodificadora"
   ]
  },
  {
   "cell_type": "code",
   "execution_count": 69,
   "id": "innovative-doctrine",
   "metadata": {},
   "outputs": [],
   "source": [
    "def decodeMessage(code, alphabet, rowsA, columnsA, mod):\n",
    "    \n",
    "    # Se realiza la decodificacion lineal\n",
    "    linearDecoded = \"\"\n",
    "    for i in range(0, len(code), columnsA):\n",
    "        linearDecoded += code[i:i+rowsA]\n",
    "        if(len(code[i:i+rowsA]) != rowsA):\n",
    "            print(\"Hay cola (\" +code[i:i+rowsA]+ \")\\n\")\n",
    "    \n",
    "    # Se realiza la decodificacion con la fuente\n",
    "    message = \"\"\n",
    "    minLength = math.ceil(math.log(len(alphabet),mod))\n",
    "    print(\"Longitud mínima binaria en bloque: \" + str(minLength) + \"\\n\")\n",
    "    for i in range(0, len(linearDecoded), minLength):\n",
    "        message += alphabet[int(linearDecoded[i:i+minLength],mod)]\n",
    "    \n",
    "    return message"
   ]
  },
  {
   "cell_type": "markdown",
   "id": "written-questionnaire",
   "metadata": {},
   "source": [
    "### Problema a resolver\n",
    "\n",
    "**Si la secuencia obtenida del canal es la indicada en data.txt obtener el mensaje original**"
   ]
  },
  {
   "cell_type": "code",
   "execution_count": 71,
   "id": "seasonal-germany",
   "metadata": {},
   "outputs": [
    {
     "name": "stdout",
     "output_type": "stream",
     "text": [
      "Alfabeto: ABCDEFGHIJKLMNÑOPQRSTUVWXYZ -\n",
      "\n",
      "Dato: 111000000111001011011111110110110110000000000000110110110110001011011111000000000000000101101110011111000110101100011110000000000000101001110000000101101110101001110000000000000000100111000001001011011111000000000000000101101110101100011110100111000001101001110000000101101110101100011110101100011110100111000001010100011001010100011001000000000000001110110001011111000110111101101001001110110001100\n",
      "\n",
      "Modulo: 2\n",
      "\n",
      "Hay cola (100)\n",
      "\n",
      "Longitud mínima binaria en bloque: 5\n",
      "\n",
      "El mensaje decodificado es: -LINEAL BINARIA SIN RUIDO--\n"
     ]
    }
   ],
   "source": [
    "# Se obtienen el alfabeto y el dato de los ficheros\n",
    "alphabet = getText(\"./data/alphabet2.txt\")\n",
    "code = getCode(\"./data/data2.txt\")\n",
    "rawA, rowsA, columnsA = getRawMatrix(\"./data/matrix2.txt\")\n",
    "mod = 2\n",
    "matrixA = getNumpyMatrix(rawA, rowsA, columnsA)\n",
    "matrixG = np.concatenate((np.identity(len(matrixA)), matrixA), 1)\n",
    "\n",
    "print(\"Alfabeto: \" +alphabet+ \"\\n\")\n",
    "print(\"Dato: \" +code+ \"\\n\")\n",
    "print(\"Modulo: \" +str(mod)+ \"\\n\")\n",
    "# La función decodificadora se encarga del resto\n",
    "print(\"El mensaje decodificado es: \" +decodeMessage(code, alphabet, len(matrixG), len(matrixG[0]), mod))"
   ]
  },
  {
   "cell_type": "code",
   "execution_count": null,
   "id": "beneficial-values",
   "metadata": {},
   "outputs": [],
   "source": []
  }
 ],
 "metadata": {
  "kernelspec": {
   "display_name": "Python 3",
   "language": "python",
   "name": "python3"
  },
  "language_info": {
   "codemirror_mode": {
    "name": "ipython",
    "version": 3
   },
   "file_extension": ".py",
   "mimetype": "text/x-python",
   "name": "python",
   "nbconvert_exporter": "python",
   "pygments_lexer": "ipython3",
   "version": "3.8.5"
  }
 },
 "nbformat": 4,
 "nbformat_minor": 5
}
