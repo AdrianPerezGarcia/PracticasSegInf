{
 "cells": [
  {
   "cell_type": "markdown",
   "id": "above-parking",
   "metadata": {},
   "source": [
    "# **Práctica 2: Codificación Aritmética (expresión en decimal)**\n",
    "\n",
    "Realizada por Adrián Pérez García el 01/03/2021"
   ]
  },
  {
   "cell_type": "markdown",
   "id": "least-belly",
   "metadata": {},
   "source": [
    "Se importan las librerias necesarias"
   ]
  },
  {
   "cell_type": "code",
   "execution_count": 5,
   "id": "suspended-planner",
   "metadata": {},
   "outputs": [],
   "source": [
    "from fractions import Fraction as fraction"
   ]
  },
  {
   "cell_type": "markdown",
   "id": "solid-rapid",
   "metadata": {},
   "source": [
    "### Ejercicio 1\n",
    "\n",
    "**Partiendo de una fuente de información F equiprobable con alfabeto.**\n",
    "\n",
    "***alf = \"ABCDEFGHIJKLMNNOPQRSTUVWXYZ .\"***\n",
    "\n",
    "**Después de aplicar el proceso de codificación aritmética (expresión en decimal) a un mensaje msj, donde se utiliza como fuente base la fuente F, se obtiene el número decimal 0.1613657607216723798346110583. Sabiendo que el mensaje msj tiene longitud 19, calcula dicho mensaje.**\n",
    "\n"
   ]
  },
  {
   "cell_type": "code",
   "execution_count": null,
   "id": "typical-resort",
   "metadata": {},
   "outputs": [],
   "source": []
  },
  {
   "cell_type": "code",
   "execution_count": null,
   "id": "delayed-credit",
   "metadata": {},
   "outputs": [],
   "source": []
  },
  {
   "cell_type": "code",
   "execution_count": null,
   "id": "incorporated-complex",
   "metadata": {},
   "outputs": [],
   "source": []
  },
  {
   "cell_type": "code",
   "execution_count": null,
   "id": "furnished-cambodia",
   "metadata": {},
   "outputs": [],
   "source": []
  },
  {
   "cell_type": "code",
   "execution_count": null,
   "id": "earned-error",
   "metadata": {},
   "outputs": [],
   "source": []
  },
  {
   "cell_type": "code",
   "execution_count": null,
   "id": "honey-portrait",
   "metadata": {},
   "outputs": [],
   "source": []
  }
 ],
 "metadata": {
  "kernelspec": {
   "display_name": "Python 3",
   "language": "python",
   "name": "python3"
  },
  "language_info": {
   "codemirror_mode": {
    "name": "ipython",
    "version": 3
   },
   "file_extension": ".py",
   "mimetype": "text/x-python",
   "name": "python",
   "nbconvert_exporter": "python",
   "pygments_lexer": "ipython3",
   "version": "3.8.5"
  }
 },
 "nbformat": 4,
 "nbformat_minor": 5
}
