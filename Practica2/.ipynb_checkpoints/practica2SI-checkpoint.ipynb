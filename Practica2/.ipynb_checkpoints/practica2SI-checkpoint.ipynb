{
 "cells": [
  {
   "cell_type": "markdown",
   "id": "above-parking",
   "metadata": {},
   "source": [
    "# **Práctica 2: Codificación Aritmética (expresión en decimal)**\n",
    "\n",
    "Realizada por Adrián Pérez García el 01/03/2021"
   ]
  },
  {
   "cell_type": "code",
   "execution_count": 1,
   "id": "suspended-planner",
   "metadata": {},
   "outputs": [],
   "source": [
    "# Se importan las librerias necesarias\n",
    "from fractions import Fraction\n",
    "import math"
   ]
  },
  {
   "cell_type": "markdown",
   "id": "ancient-first",
   "metadata": {},
   "source": [
    "### Funciones auxiliares"
   ]
  },
  {
   "cell_type": "markdown",
   "id": "exceptional-staff",
   "metadata": {},
   "source": [
    "Función encargada de dar formato a un texto obtenido de fichero"
   ]
  },
  {
   "cell_type": "code",
   "execution_count": 2,
   "id": "convenient-baker",
   "metadata": {},
   "outputs": [],
   "source": [
    "def getText(path):\n",
    "    # Se obtiene el texto del fichero\n",
    "    file = open(path, 'r', encoding='utf8')\n",
    "    text = file.read()\n",
    "    file.close()\n",
    "\n",
    "    # Se cambia cada salto de linea por dos espacios como manda el guión\n",
    "    text = text.replace(\"\\n\", \"  \")\n",
    "    \n",
    "    return text"
   ]
  },
  {
   "cell_type": "markdown",
   "id": "macro-drill",
   "metadata": {},
   "source": [
    "Getter de frecuencias y probabilidades dado una fuente de información"
   ]
  },
  {
   "cell_type": "code",
   "execution_count": 3,
   "id": "indie-norman",
   "metadata": {},
   "outputs": [],
   "source": [
    "def getFrequencies(alphabet):\n",
    "    frequencies = dict()\n",
    "    for symbol in alphabet:\n",
    "        if symbol not in frequencies:\n",
    "            frequencies[symbol] = alphabet.count(symbol)           \n",
    "    return frequencies\n",
    "\n",
    "def getOdds(alphabet):\n",
    "    odds = dict()    \n",
    "    for symbol in alphabet:\n",
    "        if symbol not in odds:\n",
    "            odds[symbol] = Fraction(alphabet.count(symbol), len(alphabet))          \n",
    "    return odds"
   ]
  },
  {
   "cell_type": "markdown",
   "id": "contrary-stage",
   "metadata": {},
   "source": [
    "Calculador de entropia"
   ]
  },
  {
   "cell_type": "code",
   "execution_count": 4,
   "id": "piano-presence",
   "metadata": {},
   "outputs": [],
   "source": [
    "def getEntropy(odds):  \n",
    "    entropy:float = 0\n",
    "    for key in odds:\n",
    "        entropy += odds[key] * math.log2(1/odds[key]) \n",
    "    return entropy"
   ]
  },
  {
   "cell_type": "markdown",
   "id": "coral-nursing",
   "metadata": {},
   "source": [
    "Decodificador de mensaje"
   ]
  },
  {
   "cell_type": "code",
   "execution_count": 5,
   "id": "lyric-hurricane",
   "metadata": {},
   "outputs": [],
   "source": [
    "def decodeNumber(number, messageLength, alphabet):\n",
    "    # Se obtienen los rangos para cada probabilidad.\n",
    "    intervals = dict()\n",
    "    actualMin = 0\n",
    "    odds = getOdds(alphabet)\n",
    "    for symbol in odds:\n",
    "        intervals[symbol] = [Fraction(actualMin), Fraction(actualMin+odds[symbol])]\n",
    "        actualMin += Fraction(odds[symbol])\n",
    "\n",
    "    message = \"\"\n",
    "    for i in range(messageLength):\n",
    "        # Se recorren todos los posibles intervalos para cada simbolo.\n",
    "        for symbol, interval in intervals.items():\n",
    "            if Fraction(interval[0]) <= number < Fraction(interval[1]):\n",
    "                # Si el numero esta en el intervalo correcto se añade la letra y se actualiza el numero para el siguiente caracter.\n",
    "                number = Fraction((number - interval[0]) / (interval[1] - interval[0]))\n",
    "                message += symbol\n",
    "                # Ya hemos añadido el simbolo, pasamos al siguiente simbolo.\n",
    "                break\n",
    "\n",
    "    return message"
   ]
  },
  {
   "cell_type": "markdown",
   "id": "creative-barbados",
   "metadata": {},
   "source": [
    "### Ejercicio 1\n",
    "\n",
    "**Partiendo de una fuente de información F equiprobable con alfabeto.**\n",
    "\n",
    "***alf = \"ABCDEFGHIJKLMNNOPQRSTUVWXYZ .\"***\n",
    "\n",
    "**Después de aplicar el proceso de codificación aritmética (expresión en decimal) a un mensaje msj, donde se utiliza como fuente base la fuente F, se obtiene el número decimal 0.1613657607216723798346110583. Sabiendo que el mensaje msj tiene longitud 19, calcula dicho mensaje.**"
   ]
  },
  {
   "cell_type": "code",
   "execution_count": 6,
   "id": "incorporated-complex",
   "metadata": {},
   "outputs": [
    {
     "name": "stdout",
     "output_type": "stream",
     "text": [
      "El mensaje decodificado es: ESTO ES UNA PRUEBA.\n"
     ]
    }
   ],
   "source": [
    "message1 = decodeNumber(Fraction(\"0.1613657607216723798346110583\"), 19, \"ABCDEFGHIJKLMNÑOPQRSTUVWXYZ .\")\n",
    "print(\"El mensaje decodificado es: \" +message1)"
   ]
  },
  {
   "cell_type": "markdown",
   "id": "permanent-capability",
   "metadata": {},
   "source": [
    "### Ejercicio 2\n",
    "\n",
    "**A partir del texto en el fichero dataEx2.txt y usando como referencia los símbolos que aparecen en el texto (diferenciando\n",
    "mayúsculas de minúsculas y tomando el cambio de línea como dos espacios) y el número de veces que aparece cada símbolo, calcula:**\n",
    "\n",
    "**a) La fuente de información F asociada al texto y apunta la entropía en bits de dicha fuente.**"
   ]
  },
  {
   "cell_type": "code",
   "execution_count": 7,
   "id": "reserved-command",
   "metadata": {},
   "outputs": [
    {
     "name": "stdout",
     "output_type": "stream",
     "text": [
      "Entropia de la fuente de informacion: 4.096886085245035\n",
      "Entropia de la fuente de informacion redondeada al tercer decimal: 4.097\n"
     ]
    }
   ],
   "source": [
    "text2 = getText(\"dataEx2.txt\")\n",
    "entropy2 = getEntropy(getOdds(text2))\n",
    "print(\"Entropia de la fuente de informacion:\", entropy2)\n",
    "print(\"Entropia de la fuente de informacion redondeada al tercer decimal:\", round(entropy2,3))"
   ]
  },
  {
   "cell_type": "markdown",
   "id": "pharmaceutical-technology",
   "metadata": {},
   "source": [
    "**b) Después de aplicar el proceso de codificación aritmética (expresión en decimal) a un mensaje msj, usando como fuente base la fuente F, se obtiene el número decimal:**\n",
    "\n",
    "***0.96402816270036736770957975564255630564009***\n",
    "\n",
    "**Sabiendo que el mensaje msj tiene longitud 27, calcula dicho mensaje.**"
   ]
  },
  {
   "cell_type": "code",
   "execution_count": 8,
   "id": "under-shelter",
   "metadata": {},
   "outputs": [
    {
     "name": "stdout",
     "output_type": "stream",
     "text": [
      "El mensaje decodificado es: el tiempo es vida\n"
     ]
    }
   ],
   "source": [
    "message2 = decodeNumber(Fraction(\"0.247276109705412160222\"), 17, text2)\n",
    "print(\"El mensaje decodificado es: \" +message2)"
   ]
  },
  {
   "cell_type": "markdown",
   "id": "permanent-genealogy",
   "metadata": {},
   "source": [
    "### Ejercicio 3\n",
    "\n",
    "**Usando como referencia los símbolos que aparecen en el texto del fichero dataEx3.txt (diferenciando mayúsculas de minúsculas y tomando el cambio de línea como dos espacios) y el número de veces que aparece cada símbolo, calcula:**\n",
    "\n",
    "**a) La fuente de información F asociada al texto y apunta la entropía en bits de dicha fuente.**"
   ]
  },
  {
   "cell_type": "code",
   "execution_count": 9,
   "id": "manufactured-pregnancy",
   "metadata": {},
   "outputs": [
    {
     "name": "stdout",
     "output_type": "stream",
     "text": [
      "Entropia de la fuente de informacion: 4.359154745324074\n",
      "Entropia de la fuente de informacion redondeada al tercer decimal: 4.359\n"
     ]
    }
   ],
   "source": [
    "text3 = getText(\"dataEx3.txt\")\n",
    "entropy3 = getEntropy(getOdds(text3))\n",
    "print(\"Entropia de la fuente de informacion:\", entropy3)\n",
    "print(\"Entropia de la fuente de informacion redondeada al tercer decimal:\", round(entropy3,3))"
   ]
  },
  {
   "cell_type": "markdown",
   "id": "respective-breathing",
   "metadata": {},
   "source": [
    "**b) Después de aplicar el proceso de codificación aritmética (expresión en decimal) a un mensaje msj, usando como fuente base la fuente F, se obtiene el número decimal:**\n",
    "\n",
    "***0.96402816270036736770957975564255630564009***\n",
    "\n",
    "**Sabiendo que el mensaje msj tiene longitud 27, calcula dicho mensaje.**"
   ]
  },
  {
   "cell_type": "code",
   "execution_count": 45,
   "id": "grand-emergency",
   "metadata": {},
   "outputs": [
    {
     "name": "stdout",
     "output_type": "stream",
     "text": [
      "El mensaje decodificado es: (primera parte, capítulo 1)\n"
     ]
    }
   ],
   "source": [
    "message3 = decodeNumber(Fraction(\"0.96402816270036736770957975564255630564009\"), 27, text3)\n",
    "print(\"El mensaje decodificado es: \" +message3)"
   ]
  },
  {
   "cell_type": "markdown",
   "id": "hybrid-ceiling",
   "metadata": {},
   "source": [
    "### Comprobación Tarea 1"
   ]
  },
  {
   "cell_type": "code",
   "execution_count": 47,
   "id": "indie-heaven",
   "metadata": {},
   "outputs": [
    {
     "name": "stdout",
     "output_type": "stream",
     "text": [
      "RAE\n"
     ]
    }
   ],
   "source": [
    "print(decodeNumber(Fraction(\"0.7\"), 3, \"EEEETAAAARRSSS\"))"
   ]
  },
  {
   "cell_type": "code",
   "execution_count": 48,
   "id": "grave-vision",
   "metadata": {},
   "outputs": [
    {
     "name": "stdout",
     "output_type": "stream",
     "text": [
      "Probabilidad del simbolo r: 7/114\n",
      "Entropia de la fuente: 4.597979198768418\n",
      "El mensaje decodificado es: 2 buscaré los siempres en los jamases\n"
     ]
    }
   ],
   "source": [
    "textHW2 = getText(\"dataExtra.txt\")\n",
    "oddsExtraHW2 = getOdds(textHW2)\n",
    "\n",
    "print(\"Probabilidad del simbolo r: \" +str(oddsExtraHW2[\"r\"]))\n",
    "print(\"Entropia de la fuente: \" + str(getEntropy(oddsExtraHW2)))\n",
    "\n",
    "messageHW2 = decodeNumber(Fraction(\"0.81205275200086808141789567275853436060575348460811\"), 37, textHW2)\n",
    "\n",
    "print(\"El mensaje decodificado es: \" +messageHW2)"
   ]
  },
  {
   "cell_type": "code",
   "execution_count": 49,
   "id": "synthetic-replica",
   "metadata": {},
   "outputs": [
    {
     "name": "stdout",
     "output_type": "stream",
     "text": [
      "0 -> IRTZUO\n",
      "1 -> ILZJMC\n",
      "2 -> IFÑCKK\n",
      "3 -> HZJLKT\n",
      "4 -> HPOÑSV\n",
      "5 -> HFWDSS\n",
      "6 -> GVTBAÑ\n",
      "7 -> GBSSON\n",
      "8 -> FUQQLT\n",
      "9 -> FÑHRPA\n",
      "10 -> FHAAGP\n",
      "11 -> FAQBEH\n",
      "12 -> EUREKA\n",
      "13 -> EKCVNL\n",
      "14 -> EAÑIOX\n",
      "15 -> DMAIAL\n",
      "16 -> CYXILA\n",
      "17 -> CQKAQP\n",
      "18 -> CIWUJA\n",
      "19 -> CAZCZK\n",
      "20 -> CAACHC\n",
      "21 -> BOVAAA\n",
      "22 -> BCHAQA\n",
      "23 -> AZZFAO\n",
      "24 -> AZAQEC\n",
      "25 -> AYAWLA\n",
      "26 -> AWUVAE\n",
      "27 -> AWANYÑ\n",
      "28 -> AVEAIA\n",
      "29 -> AUAATL\n",
      "30 -> ATFIAA\n",
      "31 -> ASWFGX\n",
      "32 -> ASAAXV\n",
      "33 -> AQWPÑR\n",
      "34 -> AQCMII\n",
      "35 -> APYAMZ\n",
      "36 -> APALLL\n",
      "37 -> AOACZA\n",
      "38 -> AÑKLOE\n",
      "39 -> AÑADQA\n",
      "40 -> ANNAAA\n",
      "41 -> ANAAAZ\n",
      "42 -> ALZMEC\n",
      "43 -> ALIADZ\n",
      "44 -> ALACAF\n",
      "45 -> AKOXTA\n",
      "46 -> AKAAZA\n",
      "47 -> AJAMAY\n",
      "48 -> AIÑKAV\n",
      "49 -> AIARQA\n",
      "50 -> AIAAAA\n",
      "51 -> AHELÑA\n",
      "52 -> AHAAAA\n",
      "53 -> AGAAAP\n",
      "54 -> AFLALR\n",
      "55 -> AFANAA\n",
      "56 -> AFAAAA\n",
      "57 -> AEFAAA\n",
      "58 -> AEAAAP\n",
      "59 -> ADABKA\n",
      "60 -> ACÑONE\n",
      "61 -> ACATBA\n",
      "62 -> ACAACA\n",
      "63 -> ABÑSWA\n",
      "64 -> ABAETI\n",
      "65 -> AAZSAA\n",
      "66 -> AAZACA\n",
      "67 -> AAYIÑA\n",
      "68 -> AAXQAW\n",
      "69 -> AAWNFL\n",
      "70 -> AAWAAQ\n",
      "71 -> AAVHCE\n",
      "72 -> AAUVAA\n",
      "73 -> AATPWA\n",
      "74 -> AATADZ\n",
      "75 -> AASRAQ\n",
      "76 -> AASAAA\n",
      "77 -> AARAAA\n",
      "78 -> AAQAYA\n",
      "79 -> AAQAAA\n",
      "80 -> AAPAWT\n",
      "81 -> AAOSCA\n",
      "82 -> AAÑSAA\n",
      "83 -> AAÑALA\n",
      "84 -> AAÑAAA\n",
      "85 -> AANANA\n",
      "86 -> AAMMWA\n",
      "87 -> AALQZA\n",
      "88 -> AALALA\n",
      "89 -> AALAAA\n",
      "90 -> AAKAUA\n",
      "91 -> AAKAAA\n",
      "92 -> AAIYAA\n",
      "93 -> AAIAWA\n",
      "94 -> AAIAAA\n",
      "95 -> AAHMTA\n",
      "96 -> AAHAAA\n",
      "97 -> AAGAFA\n",
      "98 -> AAFLLY\n",
      "99 -> AAFADA\n",
      "100 -> AAFAAA\n",
      "101 -> AAEAWC\n",
      "102 -> AAEAAA\n",
      "103 -> AADAAA\n",
      "104 -> AACFFA\n",
      "105 -> AACAAQ\n",
      "106 -> AACAAA\n",
      "107 -> AABAQA\n",
      "108 -> AABAAA\n",
      "109 -> AAAZAR\n",
      "110 -> AAAZAA\n",
      "111 -> AAAYAB\n",
      "112 -> AAAXAH\n",
      "113 -> AAAWCC\n",
      "114 -> AAAWAA\n",
      "115 -> AAAVAZ\n",
      "116 -> AAAVAA\n",
      "117 -> AAATQL\n",
      "118 -> AAATAA\n",
      "119 -> AAATAA\n",
      "120 -> AAASAA\n",
      "121 -> AAARAA\n",
      "122 -> AAAQCL\n",
      "123 -> AAAQAA\n",
      "124 -> AAAPLA\n",
      "125 -> AAAPAA\n",
      "126 -> AAAOAA\n",
      "127 -> AAAÑAT\n",
      "128 -> AAAÑAA\n",
      "129 -> AAANFZ\n",
      "130 -> AAANAA\n",
      "131 -> AAAMAA\n",
      "132 -> AAALAT\n",
      "133 -> AAALAA\n",
      "134 -> AAAKLA\n",
      "135 -> AAAKAA\n",
      "136 -> AAAJAA\n",
      "137 -> AAAICV\n",
      "138 -> AAAIAA\n",
      "139 -> AAAHZÑ\n",
      "140 -> AAAHAA\n",
      "141 -> AAAGFJ\n",
      "142 -> AAAFQA\n",
      "143 -> AAAFAA\n",
      "144 -> AAAFAA\n",
      "145 -> AAAEAY\n",
      "146 -> AAAEAA\n",
      "147 -> AAADAA\n",
      "148 -> AAACBR\n",
      "149 -> AAACAA\n",
      "150 -> AAACAA\n",
      "151 -> AAABAA\n",
      "152 -> AAABAA\n",
      "153 -> AAAAZA\n",
      "154 -> AAAAZA\n",
      "155 -> AAAAYA\n",
      "156 -> AAAAXA\n",
      "157 -> AAAAWB\n",
      "158 -> AAAAWA\n",
      "159 -> AAAAVF\n",
      "160 -> AAAAVA\n",
      "161 -> AAAATZ\n",
      "162 -> AAAATA\n",
      "163 -> AAAATA\n",
      "164 -> AAAASA\n",
      "165 -> AAAARK\n",
      "166 -> AAAAQL\n",
      "167 -> AAAAQA\n",
      "168 -> AAAAQA\n",
      "169 -> AAAAPA\n",
      "170 -> AAAAOA\n",
      "171 -> AAAAÑF\n",
      "172 -> AAAAÑA\n",
      "173 -> AAAAÑA\n",
      "174 -> AAAANA\n",
      "175 -> AAAAMA\n",
      "176 -> AAAALF\n",
      "177 -> AAAALA\n",
      "178 -> AAAALA\n",
      "179 -> AAAAKA\n",
      "180 -> AAAAJC\n",
      "181 -> AAAAIN\n",
      "182 -> AAAAIA\n",
      "183 -> AAAAIA\n",
      "184 -> AAAAHA\n",
      "185 -> AAAAHA\n",
      "186 -> AAAAFZ\n",
      "187 -> AAAAFA\n",
      "188 -> AAAAFA\n",
      "189 -> AAAAEH\n",
      "190 -> AAAAEA\n",
      "191 -> AAAADA\n",
      "192 -> AAAACC\n",
      "193 -> AAAACA\n",
      "194 -> AAAACA\n",
      "195 -> AAAABA\n",
      "196 -> AAAABA\n",
      "197 -> AAAAAZ\n",
      "198 -> AAAAAZ\n",
      "199 -> AAAAAY\n",
      "200 -> AAAAAX\n",
      "201 -> AAAAAW\n",
      "202 -> AAAAAW\n",
      "203 -> AAAAAV\n",
      "204 -> AAAAAV\n",
      "205 -> AAAAAU\n",
      "206 -> AAAAAT\n",
      "207 -> AAAAAT\n",
      "208 -> AAAAAS\n",
      "209 -> AAAAAS\n",
      "210 -> AAAAAQ\n",
      "211 -> AAAAAQ\n",
      "212 -> AAAAAQ\n",
      "213 -> AAAAAP\n",
      "214 -> AAAAAP\n",
      "215 -> AAAAAÑ\n",
      "216 -> AAAAAÑ\n",
      "217 -> AAAAAÑ\n",
      "218 -> AAAAAN\n",
      "219 -> AAAAAN\n",
      "220 -> AAAAAL\n",
      "221 -> AAAAAL\n",
      "222 -> AAAAAL\n",
      "223 -> AAAAAK\n",
      "224 -> AAAAAK\n",
      "225 -> AAAAAJ\n",
      "226 -> AAAAAI\n",
      "227 -> AAAAAI\n",
      "228 -> AAAAAH\n",
      "229 -> AAAAAH\n",
      "230 -> AAAAAG\n",
      "231 -> AAAAAF\n",
      "232 -> AAAAAF\n",
      "233 -> AAAAAE\n",
      "234 -> AAAAAE\n",
      "235 -> AAAAAD\n",
      "236 -> AAAAAC\n",
      "237 -> AAAAAC\n",
      "238 -> AAAAAC\n",
      "239 -> AAAAAB\n",
      "240 -> AAAAAB\n",
      "241 -> AAAAAA\n",
      "242 -> AAAAAA\n",
      "243 -> AAAAAA\n",
      "244 -> AAAAAA\n",
      "245 -> AAAAAA\n",
      "246 -> AAAAAA\n",
      "247 -> AAAAAA\n",
      "248 -> AAAAAA\n",
      "249 -> AAAAAA\n",
      "250 -> AAAAAA\n",
      "251 -> AAAAAA\n",
      "252 -> AAAAAA\n",
      "253 -> AAAAAA\n",
      "254 -> AAAAAA\n",
      "255 -> AAAAAA\n",
      "256 -> AAAAAA\n",
      "257 -> AAAAAA\n",
      "258 -> AAAAAA\n",
      "259 -> AAAAAA\n",
      "260 -> AAAAAA\n",
      "261 -> AAAAAA\n",
      "262 -> AAAAAA\n",
      "263 -> AAAAAA\n",
      "264 -> AAAAAA\n",
      "265 -> AAAAAA\n",
      "266 -> AAAAAA\n",
      "267 -> AAAAAA\n",
      "268 -> AAAAAA\n",
      "269 -> AAAAAA\n",
      "270 -> AAAAAA\n",
      "271 -> AAAAAA\n",
      "272 -> AAAAAA\n",
      "273 -> AAAAAA\n",
      "274 -> AAAAAA\n",
      "275 -> AAAAAA\n",
      "276 -> AAAAAA\n",
      "277 -> AAAAAA\n",
      "278 -> AAAAAA\n",
      "279 -> AAAAAA\n",
      "280 -> AAAAAA\n",
      "281 -> AAAAAA\n",
      "282 -> AAAAAA\n",
      "283 -> AAAAAA\n",
      "284 -> AAAAAA\n",
      "285 -> AAAAAA\n",
      "286 -> AAAAAA\n",
      "287 -> AAAAAA\n",
      "288 -> AAAAAA\n",
      "289 -> AAAAAA\n",
      "290 -> AAAAAA\n",
      "291 -> AAAAAA\n",
      "292 -> AAAAAA\n",
      "293 -> AAAAAA\n",
      "294 -> AAAAAA\n",
      "295 -> AAAAAA\n",
      "296 -> AAAAAA\n",
      "297 -> AAAAAA\n",
      "298 -> AAAAAA\n",
      "299 -> AAAAAA\n",
      "300 -> AAAAAA\n",
      "301 -> AAAAAA\n",
      "302 -> AAAAAA\n",
      "303 -> AAAAAA\n",
      "304 -> AAAAAA\n",
      "305 -> AAAAAA\n",
      "306 -> AAAAAA\n",
      "307 -> AAAAAA\n",
      "308 -> AAAAAA\n",
      "309 -> AAAAAA\n",
      "310 -> AAAAAA\n",
      "311 -> AAAAAA\n",
      "312 -> AAAAAA\n",
      "313 -> AAAAAA\n",
      "314 -> AAAAAA\n",
      "315 -> AAAAAA\n",
      "316 -> AAAAAA\n",
      "317 -> AAAAAA\n",
      "318 -> AAAAAA\n",
      "319 -> AAAAAA\n",
      "320 -> AAAAAA\n",
      "321 -> AAAAAA\n",
      "322 -> AAAAAA\n",
      "323 -> AAAAAA\n",
      "324 -> AAAAAA\n",
      "325 -> AAAAAA\n",
      "326 -> AAAAAA\n",
      "327 -> AAAAAA\n",
      "328 -> AAAAAA\n",
      "329 -> AAAAAA\n",
      "330 -> AAAAAA\n",
      "331 -> AAAAAA\n",
      "332 -> AAAAAA\n",
      "333 -> AAAAAA\n",
      "334 -> AAAAAA\n",
      "335 -> AAAAAA\n",
      "336 -> AAAAAA\n",
      "337 -> AAAAAA\n",
      "338 -> AAAAAA\n",
      "339 -> AAAAAA\n",
      "340 -> AAAAAA\n",
      "341 -> AAAAAA\n",
      "342 -> AAAAAA\n",
      "343 -> AAAAAA\n",
      "344 -> AAAAAA\n",
      "345 -> AAAAAA\n",
      "346 -> AAAAAA\n",
      "347 -> AAAAAA\n",
      "348 -> AAAAAA\n",
      "349 -> AAAAAA\n"
     ]
    }
   ],
   "source": [
    "alphabetBaseHW3 = \"BBCCCDEEFFFGHHIIIJKKLLLMNNÑÑÑOPPQQQRSSTTTUVVWWWXYYZZZ\"\n",
    "\n",
    "# Probamos con 350 posibles frecuencias [0-349]\n",
    "for i in range(350):\n",
    "    alphabetHW3 = \"\"\n",
    "    for j in range(i):\n",
    "        alphabetHW3 += \"A\"\n",
    "    alphabetHW3 += alphabetBaseHW3\n",
    "    print(str(i) + \" -> \" + decodeNumber(Fraction(\"0.30235624\"), 6, alphabetHW3))"
   ]
  },
  {
   "cell_type": "code",
   "execution_count": null,
   "id": "improved-preference",
   "metadata": {},
   "outputs": [],
   "source": []
  }
 ],
 "metadata": {
  "kernelspec": {
   "display_name": "Python 3",
   "language": "python",
   "name": "python3"
  },
  "language_info": {
   "codemirror_mode": {
    "name": "ipython",
    "version": 3
   },
   "file_extension": ".py",
   "mimetype": "text/x-python",
   "name": "python",
   "nbconvert_exporter": "python",
   "pygments_lexer": "ipython3",
   "version": "3.8.5"
  }
 },
 "nbformat": 4,
 "nbformat_minor": 5
}
