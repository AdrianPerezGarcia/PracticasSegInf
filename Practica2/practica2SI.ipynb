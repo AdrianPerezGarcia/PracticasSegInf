{
 "cells": [
  {
   "cell_type": "markdown",
   "id": "above-parking",
   "metadata": {},
   "source": [
    "# **Práctica 2: Codificación Aritmética (expresión en decimal)**\n",
    "\n",
    "Realizada por Adrián Pérez García el 01/03/2021"
   ]
  },
  {
   "cell_type": "code",
   "execution_count": 19,
   "id": "suspended-planner",
   "metadata": {},
   "outputs": [],
   "source": [
    "# Se importan las librerias necesarias\n",
    "from fractions import Fraction\n",
    "import math"
   ]
  },
  {
   "cell_type": "markdown",
   "id": "ancient-first",
   "metadata": {},
   "source": [
    "### Funciones auxiliares"
   ]
  },
  {
   "cell_type": "markdown",
   "id": "exceptional-staff",
   "metadata": {},
   "source": [
    "Función encargada de dar formato a un texto obtenido de fichero"
   ]
  },
  {
   "cell_type": "code",
   "execution_count": 20,
   "id": "convenient-baker",
   "metadata": {},
   "outputs": [],
   "source": [
    "def getText(path):\n",
    "    # Se obtiene el texto del fichero\n",
    "    file = open(path, 'r', encoding='utf8')\n",
    "    text = file.read()\n",
    "    file.close()\n",
    "\n",
    "    # Se cambia cada salto de linea por dos espacios como manda el guión\n",
    "    text = text.replace(\"\\n\", \"  \")\n",
    "    \n",
    "    return text"
   ]
  },
  {
   "cell_type": "markdown",
   "id": "macro-drill",
   "metadata": {},
   "source": [
    "Getter de frecuencias y probabilidades dado una fuente de información"
   ]
  },
  {
   "cell_type": "code",
   "execution_count": 21,
   "id": "indie-norman",
   "metadata": {},
   "outputs": [],
   "source": [
    "def getFrequencies(alphabet):\n",
    "    frequencies = dict()\n",
    "    for symbol in alphabet:\n",
    "        if symbol not in frequencies:\n",
    "            frequencies[symbol] = alphabet.count(symbol)           \n",
    "    return frequencies\n",
    "\n",
    "def getOdds(alphabet, frequencies):\n",
    "    odds = dict()    \n",
    "    for symbol in frequencies:\n",
    "        odds[symbol] = Fraction(frequencies[symbol], len(alphabet))          \n",
    "    return odds"
   ]
  },
  {
   "cell_type": "markdown",
   "id": "contrary-stage",
   "metadata": {},
   "source": [
    "Calculador de entropia"
   ]
  },
  {
   "cell_type": "code",
   "execution_count": 22,
   "id": "piano-presence",
   "metadata": {},
   "outputs": [],
   "source": [
    "def getEntropy(alphabet, odds):  \n",
    "    entropy:float = 0\n",
    "    for key in odds:\n",
    "        entropy += odds[key] * math.log2(1/odds[key]) \n",
    "        \n",
    "    return entropy"
   ]
  },
  {
   "cell_type": "markdown",
   "id": "coral-nursing",
   "metadata": {},
   "source": [
    "Decodificador de mensaje"
   ]
  },
  {
   "cell_type": "code",
   "execution_count": 23,
   "id": "lyric-hurricane",
   "metadata": {},
   "outputs": [],
   "source": [
    "def decodeNumber(number, messageLength, alphabet):\n",
    "    \n",
    "    frequencies =  getFrequencies(alphabet)\n",
    "    odds = getOdds(alphabet, frequencies)\n",
    "        \n",
    "    aux = 0\n",
    "    intervals = dict()\n",
    "    for symbol in odds:\n",
    "        intervals[symbol] = [Fraction(aux), Fraction(aux+odds[symbol])]\n",
    "        aux += Fraction(odds[symbol])\n",
    "\n",
    "    message = \"\"\n",
    "    for i in range(messageLength):\n",
    "        for symbol, interval in intervals.items():\n",
    "            if Fraction(interval[0]) <= number < Fraction(interval[1]):\n",
    "                message += symbol\n",
    "                number = Fraction((number - interval[0]) / (interval[1] - interval[0]))\n",
    "                break\n",
    "\n",
    "    return message"
   ]
  },
  {
   "cell_type": "markdown",
   "id": "creative-barbados",
   "metadata": {},
   "source": [
    "### Ejercicio 1\n",
    "\n",
    "**Partiendo de una fuente de información F equiprobable con alfabeto.**\n",
    "\n",
    "***alf = \"ABCDEFGHIJKLMNNOPQRSTUVWXYZ .\"***\n",
    "\n",
    "**Después de aplicar el proceso de codificación aritmética (expresión en decimal) a un mensaje msj, donde se utiliza como fuente base la fuente F, se obtiene el número decimal 0.1613657607216723798346110583. Sabiendo que el mensaje msj tiene longitud 19, calcula dicho mensaje.**"
   ]
  },
  {
   "cell_type": "code",
   "execution_count": 24,
   "id": "incorporated-complex",
   "metadata": {},
   "outputs": [
    {
     "name": "stdout",
     "output_type": "stream",
     "text": [
      "El mensaje decodificado es: ESTO ES UNA PRUEBA.\n"
     ]
    }
   ],
   "source": [
    "message1 = decodeNumber(Fraction(\"0.1613657607216723798346110583\"), 19, \"ABCDEFGHIJKLMNÑOPQRSTUVWXYZ .\")\n",
    "print(\"El mensaje decodificado es: \" +message1)"
   ]
  },
  {
   "cell_type": "markdown",
   "id": "permanent-capability",
   "metadata": {},
   "source": [
    "### Ejercicio 2\n",
    "\n",
    "**A partir del texto en el fichero dataEx2.txt y usando como referencia los símbolos que aparecen en el texto (diferenciando\n",
    "mayúsculas de minúsculas y tomando el cambio de línea como dos espacios) y el número de veces que aparece cada símbolo, calcula:**\n",
    "\n",
    "**a) La fuente de información F asociada al texto y apunta la entropía en bits de dicha fuente.**"
   ]
  },
  {
   "cell_type": "code",
   "execution_count": 25,
   "id": "reserved-command",
   "metadata": {},
   "outputs": [
    {
     "name": "stdout",
     "output_type": "stream",
     "text": [
      "Entropia de la fuente de informacion: 4.096886085245035\n",
      "Entropia de la fuente de informacion redondeada al tercer decimal: 4.097\n"
     ]
    }
   ],
   "source": [
    "text2 = getText(\"dataEx2.txt\")\n",
    "\n",
    "entropy2 = getEntropy(text2, getOdds(text2, getFrequencies(text2)))\n",
    "\n",
    "print(\"Entropia de la fuente de informacion:\", entropy2)\n",
    "print(\"Entropia de la fuente de informacion redondeada al tercer decimal:\", round(entropy2,3))"
   ]
  },
  {
   "cell_type": "markdown",
   "id": "pharmaceutical-technology",
   "metadata": {},
   "source": [
    "**b) Después de aplicar el proceso de codificación aritmética (expresión en decimal) a un mensaje msj, usando como fuente base la fuente F, se obtiene el número decimal:**\n",
    "\n",
    "***0.96402816270036736770957975564255630564009***\n",
    "\n",
    "**Sabiendo que el mensaje msj tiene longitud 27, calcula dicho mensaje.**"
   ]
  },
  {
   "cell_type": "code",
   "execution_count": 26,
   "id": "under-shelter",
   "metadata": {},
   "outputs": [
    {
     "name": "stdout",
     "output_type": "stream",
     "text": [
      "El mensaje decodificado es: el tiempo es vida\n"
     ]
    }
   ],
   "source": [
    "message2 = decodeNumber(Fraction(\"0.247276109705412160222\"), 17, text2)\n",
    "print(\"El mensaje decodificado es: \" +message2)"
   ]
  },
  {
   "cell_type": "markdown",
   "id": "permanent-genealogy",
   "metadata": {},
   "source": [
    "### Ejercicio 3\n",
    "\n",
    "**Usando como referencia los símbolos que aparecen en el texto del fichero dataEx3.txt (diferenciando mayúsculas de minúsculas y tomando el cambio de línea como dos espacios) y el número de veces que aparece cada símbolo, calcula:**\n",
    "\n",
    "**a) La fuente de información F asociada al texto y apunta la entropía en bits de dicha fuente.**"
   ]
  },
  {
   "cell_type": "code",
   "execution_count": 27,
   "id": "manufactured-pregnancy",
   "metadata": {},
   "outputs": [
    {
     "name": "stdout",
     "output_type": "stream",
     "text": [
      "Entropia de la fuente de informacion: 4.359154745324074\n",
      "Entropia de la fuente de informacion redondeada al tercer decimal: 4.359\n"
     ]
    }
   ],
   "source": [
    "text3 = getText(\"dataEx3.txt\")\n",
    "\n",
    "entropy3 = getEntropy(text3, getOdds(text3, getFrequencies(text3)))\n",
    "\n",
    "print(\"Entropia de la fuente de informacion:\", entropy3)\n",
    "print(\"Entropia de la fuente de informacion redondeada al tercer decimal:\", round(entropy3,3))"
   ]
  },
  {
   "cell_type": "markdown",
   "id": "respective-breathing",
   "metadata": {},
   "source": [
    "**b) Después de aplicar el proceso de codificación aritmética (expresión en decimal) a un mensaje msj, usando como fuente base la fuente F, se obtiene el número decimal:**\n",
    "\n",
    "***0.96402816270036736770957975564255630564009***\n",
    "\n",
    "**Sabiendo que el mensaje msj tiene longitud 27, calcula dicho mensaje.**"
   ]
  },
  {
   "cell_type": "code",
   "execution_count": 28,
   "id": "grand-emergency",
   "metadata": {},
   "outputs": [
    {
     "name": "stdout",
     "output_type": "stream",
     "text": [
      "El mensaje decodificado es: (primera parte, capítulo 1)\n"
     ]
    }
   ],
   "source": [
    "message3 = decodeNumber(Fraction(\"0.96402816270036736770957975564255630564009\"), 27, text3)\n",
    "print(\"El mensaje decodificado es: \" +message3)"
   ]
  }
 ],
 "metadata": {
  "kernelspec": {
   "display_name": "Python 3",
   "language": "python",
   "name": "python3"
  },
  "language_info": {
   "codemirror_mode": {
    "name": "ipython",
    "version": 3
   },
   "file_extension": ".py",
   "mimetype": "text/x-python",
   "name": "python",
   "nbconvert_exporter": "python",
   "pygments_lexer": "ipython3",
   "version": "3.8.5"
  }
 },
 "nbformat": 4,
 "nbformat_minor": 5
}
